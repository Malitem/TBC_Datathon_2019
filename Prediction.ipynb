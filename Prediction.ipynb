{
 "cells": [
  {
   "cell_type": "code",
   "execution_count": 194,
   "metadata": {},
   "outputs": [],
   "source": [
    "import pandas as pd\n",
    "import numpy as np\n",
    "import matplotlib.pyplot as plt\n",
    "from matplotlib import pyplot\n",
    "import seaborn as sns\n",
    "\n",
    "%matplotlib inline\n",
    "%run ../Veon_Tasks/functions_book.ipynb"
   ]
  },
  {
   "cell_type": "code",
   "execution_count": 195,
   "metadata": {
    "scrolled": true
   },
   "outputs": [],
   "source": [
    "df = pd.read_csv(\"final.csv\")"
   ]
  },
  {
   "cell_type": "code",
   "execution_count": 196,
   "metadata": {},
   "outputs": [],
   "source": [
    "df.drop('Unnamed: 0', axis=1, inplace=True)"
   ]
  },
  {
   "cell_type": "code",
   "execution_count": 197,
   "metadata": {},
   "outputs": [
    {
     "data": {
      "text/html": [
       "<div>\n",
       "<style scoped>\n",
       "    .dataframe tbody tr th:only-of-type {\n",
       "        vertical-align: middle;\n",
       "    }\n",
       "\n",
       "    .dataframe tbody tr th {\n",
       "        vertical-align: top;\n",
       "    }\n",
       "\n",
       "    .dataframe thead th {\n",
       "        text-align: right;\n",
       "    }\n",
       "</style>\n",
       "<table border=\"1\" class=\"dataframe\">\n",
       "  <thead>\n",
       "    <tr style=\"text-align: right;\">\n",
       "      <th></th>\n",
       "      <th>პოლისის ნომერი (hash)</th>\n",
       "      <th>წინა პოლისის ნომერი (hash)</th>\n",
       "      <th>დამზღ პირადი ნომერი (hash)</th>\n",
       "      <th>სედანი/ჯიპი</th>\n",
       "      <th>Client Category (hash)</th>\n",
       "      <th>პრემია</th>\n",
       "      <th>გაუქმებული პრემია</th>\n",
       "      <th>სტატუსი</th>\n",
       "      <th>ვადაგადაცილებული დღე</th>\n",
       "      <th>დამზღვევის ასაკი</th>\n",
       "      <th>დამზღვევი ქალია</th>\n",
       "      <th>ბოლომდე არ გადაიხადა</th>\n",
       "      <th>გასული_პერიოდი_გაუქმებამდე</th>\n",
       "      <th>Motor TPL Package</th>\n",
       "      <th>MotorPackage</th>\n",
       "      <th>PropertyPackage</th>\n",
       "      <th>TravelPackage</th>\n",
       "      <th>1990.0</th>\n",
       "      <th>2000.0</th>\n",
       "      <th>2010.0</th>\n",
       "      <th>თანამშრომლი ქალია</th>\n",
       "      <th>პასუხისმგებლის ასაკი</th>\n",
       "      <th>დამზღ არის მესაკუთრე</th>\n",
       "      <th>ჯგუფი 1</th>\n",
       "      <th>ჯგუფი 2</th>\n",
       "      <th>ჯგუფი 3</th>\n",
       "      <th>მოთხოვნილი</th>\n",
       "      <th>ანაზღაურებული</th>\n",
       "      <th>დაკმაყოფილებული</th>\n",
       "      <th>დაუკმაყოფილებელი</th>\n",
       "      <th>ნაკლებად_დაკმაყოფილებული</th>\n",
       "      <th>ზედმეტად_დაკმაყოფილებული</th>\n",
       "      <th>no_status</th>\n",
       "      <th>დასრულებულია</th>\n",
       "      <th>პროცესშია</th>\n",
       "      <th>გარეცხვის რაოდენობა</th>\n",
       "      <th>in_abandon</th>\n",
       "      <th>out_abandon</th>\n",
       "      <th>in_answered</th>\n",
       "      <th>out_answered</th>\n",
       "    </tr>\n",
       "  </thead>\n",
       "  <tbody>\n",
       "    <tr>\n",
       "      <td>0</td>\n",
       "      <td>a33fff3fbe65ff7923448554f5f32f05b52ddf1f4cf88d...</td>\n",
       "      <td>0</td>\n",
       "      <td>5c05f5ab96ae3736b288a7121c222b86a82c221e782b4d...</td>\n",
       "      <td>ჰეტჩბეკი</td>\n",
       "      <td>0</td>\n",
       "      <td>1682.57</td>\n",
       "      <td>-1397.54</td>\n",
       "      <td>Cancelled</td>\n",
       "      <td>0</td>\n",
       "      <td>39.0</td>\n",
       "      <td>1</td>\n",
       "      <td>1</td>\n",
       "      <td>61</td>\n",
       "      <td>0</td>\n",
       "      <td>1</td>\n",
       "      <td>0</td>\n",
       "      <td>0</td>\n",
       "      <td>0</td>\n",
       "      <td>0</td>\n",
       "      <td>1</td>\n",
       "      <td>1</td>\n",
       "      <td>30</td>\n",
       "      <td>1</td>\n",
       "      <td>1</td>\n",
       "      <td>0</td>\n",
       "      <td>0</td>\n",
       "      <td>200</td>\n",
       "      <td>0.0</td>\n",
       "      <td>0</td>\n",
       "      <td>1</td>\n",
       "      <td>0</td>\n",
       "      <td>0</td>\n",
       "      <td>0</td>\n",
       "      <td>1</td>\n",
       "      <td>0</td>\n",
       "      <td>0.0</td>\n",
       "      <td>0.0</td>\n",
       "      <td>0.0</td>\n",
       "      <td>1.0</td>\n",
       "      <td>0.0</td>\n",
       "    </tr>\n",
       "    <tr>\n",
       "      <td>1</td>\n",
       "      <td>1caa70ee07ef8cb0f55f06f6bf43cb7d4853b13fe837a4...</td>\n",
       "      <td>0</td>\n",
       "      <td>70720759877097d63afb1e59d5f535413076b92a48e616...</td>\n",
       "      <td>ჰეტჩბეკი</td>\n",
       "      <td>0</td>\n",
       "      <td>670.00</td>\n",
       "      <td>0.00</td>\n",
       "      <td>Active</td>\n",
       "      <td>0</td>\n",
       "      <td>51.0</td>\n",
       "      <td>0</td>\n",
       "      <td>0</td>\n",
       "      <td>194</td>\n",
       "      <td>0</td>\n",
       "      <td>1</td>\n",
       "      <td>0</td>\n",
       "      <td>0</td>\n",
       "      <td>1</td>\n",
       "      <td>0</td>\n",
       "      <td>0</td>\n",
       "      <td>0</td>\n",
       "      <td>22</td>\n",
       "      <td>1</td>\n",
       "      <td>1</td>\n",
       "      <td>0</td>\n",
       "      <td>0</td>\n",
       "      <td>0</td>\n",
       "      <td>0.0</td>\n",
       "      <td>0</td>\n",
       "      <td>0</td>\n",
       "      <td>0</td>\n",
       "      <td>0</td>\n",
       "      <td>1</td>\n",
       "      <td>0</td>\n",
       "      <td>0</td>\n",
       "      <td>0.0</td>\n",
       "      <td>0.0</td>\n",
       "      <td>0.0</td>\n",
       "      <td>1.0</td>\n",
       "      <td>0.0</td>\n",
       "    </tr>\n",
       "    <tr>\n",
       "      <td>2</td>\n",
       "      <td>634cc57a6f4ba919e81c0f01b7530de1f660b67183f597...</td>\n",
       "      <td>0</td>\n",
       "      <td>21af9ba2c667dc7758c1d8fee8cf845c10a2b912077ff3...</td>\n",
       "      <td>სედანი</td>\n",
       "      <td>0</td>\n",
       "      <td>1863.34</td>\n",
       "      <td>0.00</td>\n",
       "      <td>Active</td>\n",
       "      <td>11</td>\n",
       "      <td>25.0</td>\n",
       "      <td>0</td>\n",
       "      <td>0</td>\n",
       "      <td>194</td>\n",
       "      <td>0</td>\n",
       "      <td>1</td>\n",
       "      <td>0</td>\n",
       "      <td>0</td>\n",
       "      <td>0</td>\n",
       "      <td>1</td>\n",
       "      <td>0</td>\n",
       "      <td>1</td>\n",
       "      <td>28</td>\n",
       "      <td>0</td>\n",
       "      <td>1</td>\n",
       "      <td>0</td>\n",
       "      <td>0</td>\n",
       "      <td>450</td>\n",
       "      <td>450.0</td>\n",
       "      <td>1</td>\n",
       "      <td>0</td>\n",
       "      <td>0</td>\n",
       "      <td>0</td>\n",
       "      <td>0</td>\n",
       "      <td>1</td>\n",
       "      <td>0</td>\n",
       "      <td>0.0</td>\n",
       "      <td>0.0</td>\n",
       "      <td>0.0</td>\n",
       "      <td>0.0</td>\n",
       "      <td>0.0</td>\n",
       "    </tr>\n",
       "    <tr>\n",
       "      <td>3</td>\n",
       "      <td>6e58638e7cd1bb63394922816cdbc8a1e50cc6ae6206cb...</td>\n",
       "      <td>0</td>\n",
       "      <td>ce3f168dac3aa97e04b770006e29b2bc6a5a4dca34a198...</td>\n",
       "      <td>სედანი</td>\n",
       "      <td>0</td>\n",
       "      <td>1289.04</td>\n",
       "      <td>0.00</td>\n",
       "      <td>Active</td>\n",
       "      <td>0</td>\n",
       "      <td>35.0</td>\n",
       "      <td>0</td>\n",
       "      <td>0</td>\n",
       "      <td>194</td>\n",
       "      <td>0</td>\n",
       "      <td>1</td>\n",
       "      <td>0</td>\n",
       "      <td>0</td>\n",
       "      <td>0</td>\n",
       "      <td>0</td>\n",
       "      <td>1</td>\n",
       "      <td>0</td>\n",
       "      <td>21</td>\n",
       "      <td>0</td>\n",
       "      <td>1</td>\n",
       "      <td>0</td>\n",
       "      <td>0</td>\n",
       "      <td>0</td>\n",
       "      <td>0.0</td>\n",
       "      <td>0</td>\n",
       "      <td>0</td>\n",
       "      <td>0</td>\n",
       "      <td>0</td>\n",
       "      <td>1</td>\n",
       "      <td>0</td>\n",
       "      <td>0</td>\n",
       "      <td>0.0</td>\n",
       "      <td>0.0</td>\n",
       "      <td>0.0</td>\n",
       "      <td>0.0</td>\n",
       "      <td>0.0</td>\n",
       "    </tr>\n",
       "    <tr>\n",
       "      <td>4</td>\n",
       "      <td>e831f0776cd9fd656387eb9de5a72009f1f747ce8d90e3...</td>\n",
       "      <td>0</td>\n",
       "      <td>be7f92e24d1ad7c35f4b44afde3077178512c4a846da5f...</td>\n",
       "      <td>მაღალი გამავლობის</td>\n",
       "      <td>0</td>\n",
       "      <td>1351.61</td>\n",
       "      <td>0.00</td>\n",
       "      <td>Active</td>\n",
       "      <td>0</td>\n",
       "      <td>34.0</td>\n",
       "      <td>1</td>\n",
       "      <td>0</td>\n",
       "      <td>194</td>\n",
       "      <td>0</td>\n",
       "      <td>1</td>\n",
       "      <td>0</td>\n",
       "      <td>0</td>\n",
       "      <td>0</td>\n",
       "      <td>0</td>\n",
       "      <td>1</td>\n",
       "      <td>0</td>\n",
       "      <td>23</td>\n",
       "      <td>1</td>\n",
       "      <td>1</td>\n",
       "      <td>0</td>\n",
       "      <td>0</td>\n",
       "      <td>0</td>\n",
       "      <td>0.0</td>\n",
       "      <td>0</td>\n",
       "      <td>0</td>\n",
       "      <td>0</td>\n",
       "      <td>0</td>\n",
       "      <td>1</td>\n",
       "      <td>0</td>\n",
       "      <td>0</td>\n",
       "      <td>0.0</td>\n",
       "      <td>0.0</td>\n",
       "      <td>0.0</td>\n",
       "      <td>0.0</td>\n",
       "      <td>0.0</td>\n",
       "    </tr>\n",
       "  </tbody>\n",
       "</table>\n",
       "</div>"
      ],
      "text/plain": [
       "                               პოლისის ნომერი (hash)  \\\n",
       "0  a33fff3fbe65ff7923448554f5f32f05b52ddf1f4cf88d...   \n",
       "1  1caa70ee07ef8cb0f55f06f6bf43cb7d4853b13fe837a4...   \n",
       "2  634cc57a6f4ba919e81c0f01b7530de1f660b67183f597...   \n",
       "3  6e58638e7cd1bb63394922816cdbc8a1e50cc6ae6206cb...   \n",
       "4  e831f0776cd9fd656387eb9de5a72009f1f747ce8d90e3...   \n",
       "\n",
       "   წინა პოლისის ნომერი (hash)  \\\n",
       "0                           0   \n",
       "1                           0   \n",
       "2                           0   \n",
       "3                           0   \n",
       "4                           0   \n",
       "\n",
       "                          დამზღ პირადი ნომერი (hash)        სედანი/ჯიპი  \\\n",
       "0  5c05f5ab96ae3736b288a7121c222b86a82c221e782b4d...           ჰეტჩბეკი   \n",
       "1  70720759877097d63afb1e59d5f535413076b92a48e616...           ჰეტჩბეკი   \n",
       "2  21af9ba2c667dc7758c1d8fee8cf845c10a2b912077ff3...             სედანი   \n",
       "3  ce3f168dac3aa97e04b770006e29b2bc6a5a4dca34a198...             სედანი   \n",
       "4  be7f92e24d1ad7c35f4b44afde3077178512c4a846da5f...  მაღალი გამავლობის   \n",
       "\n",
       "   Client Category (hash)   პრემია  გაუქმებული პრემია    სტატუსი  \\\n",
       "0                       0  1682.57           -1397.54  Cancelled   \n",
       "1                       0   670.00               0.00     Active   \n",
       "2                       0  1863.34               0.00     Active   \n",
       "3                       0  1289.04               0.00     Active   \n",
       "4                       0  1351.61               0.00     Active   \n",
       "\n",
       "   ვადაგადაცილებული დღე  დამზღვევის ასაკი  დამზღვევი ქალია  \\\n",
       "0                     0              39.0                1   \n",
       "1                     0              51.0                0   \n",
       "2                    11              25.0                0   \n",
       "3                     0              35.0                0   \n",
       "4                     0              34.0                1   \n",
       "\n",
       "   ბოლომდე არ გადაიხადა  გასული_პერიოდი_გაუქმებამდე  Motor TPL Package  \\\n",
       "0                     1                          61                  0   \n",
       "1                     0                         194                  0   \n",
       "2                     0                         194                  0   \n",
       "3                     0                         194                  0   \n",
       "4                     0                         194                  0   \n",
       "\n",
       "   MotorPackage  PropertyPackage  TravelPackage  1990.0  2000.0  2010.0  \\\n",
       "0             1                0              0       0       0       1   \n",
       "1             1                0              0       1       0       0   \n",
       "2             1                0              0       0       1       0   \n",
       "3             1                0              0       0       0       1   \n",
       "4             1                0              0       0       0       1   \n",
       "\n",
       "   თანამშრომლი ქალია  პასუხისმგებლის ასაკი  დამზღ არის მესაკუთრე  ჯგუფი 1  \\\n",
       "0                  1                    30                     1        1   \n",
       "1                  0                    22                     1        1   \n",
       "2                  1                    28                     0        1   \n",
       "3                  0                    21                     0        1   \n",
       "4                  0                    23                     1        1   \n",
       "\n",
       "   ჯგუფი 2  ჯგუფი 3  მოთხოვნილი  ანაზღაურებული  დაკმაყოფილებული  \\\n",
       "0        0        0         200            0.0                0   \n",
       "1        0        0           0            0.0                0   \n",
       "2        0        0         450          450.0                1   \n",
       "3        0        0           0            0.0                0   \n",
       "4        0        0           0            0.0                0   \n",
       "\n",
       "   დაუკმაყოფილებელი  ნაკლებად_დაკმაყოფილებული  ზედმეტად_დაკმაყოფილებული  \\\n",
       "0                 1                         0                         0   \n",
       "1                 0                         0                         0   \n",
       "2                 0                         0                         0   \n",
       "3                 0                         0                         0   \n",
       "4                 0                         0                         0   \n",
       "\n",
       "   no_status  დასრულებულია  პროცესშია  გარეცხვის რაოდენობა  in_abandon  \\\n",
       "0          0             1          0                  0.0         0.0   \n",
       "1          1             0          0                  0.0         0.0   \n",
       "2          0             1          0                  0.0         0.0   \n",
       "3          1             0          0                  0.0         0.0   \n",
       "4          1             0          0                  0.0         0.0   \n",
       "\n",
       "   out_abandon  in_answered  out_answered  \n",
       "0          0.0          1.0           0.0  \n",
       "1          0.0          1.0           0.0  \n",
       "2          0.0          0.0           0.0  \n",
       "3          0.0          0.0           0.0  \n",
       "4          0.0          0.0           0.0  "
      ]
     },
     "metadata": {},
     "output_type": "display_data"
    }
   ],
   "source": [
    "display_all(df.head())"
   ]
  },
  {
   "cell_type": "code",
   "execution_count": 198,
   "metadata": {
    "scrolled": true
   },
   "outputs": [
    {
     "data": {
      "text/plain": [
       "(6400, 40)"
      ]
     },
     "execution_count": 198,
     "metadata": {},
     "output_type": "execute_result"
    }
   ],
   "source": [
    "df.shape"
   ]
  },
  {
   "cell_type": "code",
   "execution_count": 199,
   "metadata": {},
   "outputs": [],
   "source": [
    "df = df.set_index(['პოლისის ნომერი (hash)', 'დამზღ პირადი ნომერი (hash)'])"
   ]
  },
  {
   "cell_type": "code",
   "execution_count": 200,
   "metadata": {},
   "outputs": [],
   "source": [
    "df.drop(['სედანი/ჯიპი', 'სტატუსი'],axis=1, inplace=True)"
   ]
  },
  {
   "cell_type": "code",
   "execution_count": 201,
   "metadata": {},
   "outputs": [],
   "source": [
    "df.drop(['გაუქმებული პრემია', 'გასული_პერიოდი_გაუქმებამდე'],axis=1, inplace=True)"
   ]
  },
  {
   "cell_type": "code",
   "execution_count": 202,
   "metadata": {},
   "outputs": [
    {
     "data": {
      "text/html": [
       "<div>\n",
       "<style scoped>\n",
       "    .dataframe tbody tr th:only-of-type {\n",
       "        vertical-align: middle;\n",
       "    }\n",
       "\n",
       "    .dataframe tbody tr th {\n",
       "        vertical-align: top;\n",
       "    }\n",
       "\n",
       "    .dataframe thead th {\n",
       "        text-align: right;\n",
       "    }\n",
       "</style>\n",
       "<table border=\"1\" class=\"dataframe\">\n",
       "  <thead>\n",
       "    <tr style=\"text-align: right;\">\n",
       "      <th></th>\n",
       "      <th></th>\n",
       "      <th>წინა პოლისის ნომერი (hash)</th>\n",
       "      <th>Client Category (hash)</th>\n",
       "      <th>პრემია</th>\n",
       "      <th>ვადაგადაცილებული დღე</th>\n",
       "      <th>დამზღვევის ასაკი</th>\n",
       "      <th>დამზღვევი ქალია</th>\n",
       "      <th>ბოლომდე არ გადაიხადა</th>\n",
       "      <th>Motor TPL Package</th>\n",
       "      <th>MotorPackage</th>\n",
       "      <th>PropertyPackage</th>\n",
       "      <th>TravelPackage</th>\n",
       "      <th>1990.0</th>\n",
       "      <th>2000.0</th>\n",
       "      <th>2010.0</th>\n",
       "      <th>თანამშრომლი ქალია</th>\n",
       "      <th>პასუხისმგებლის ასაკი</th>\n",
       "      <th>დამზღ არის მესაკუთრე</th>\n",
       "      <th>ჯგუფი 1</th>\n",
       "      <th>ჯგუფი 2</th>\n",
       "      <th>ჯგუფი 3</th>\n",
       "      <th>მოთხოვნილი</th>\n",
       "      <th>ანაზღაურებული</th>\n",
       "      <th>დაკმაყოფილებული</th>\n",
       "      <th>დაუკმაყოფილებელი</th>\n",
       "      <th>ნაკლებად_დაკმაყოფილებული</th>\n",
       "      <th>ზედმეტად_დაკმაყოფილებული</th>\n",
       "      <th>no_status</th>\n",
       "      <th>დასრულებულია</th>\n",
       "      <th>პროცესშია</th>\n",
       "      <th>გარეცხვის რაოდენობა</th>\n",
       "      <th>in_abandon</th>\n",
       "      <th>out_abandon</th>\n",
       "      <th>in_answered</th>\n",
       "      <th>out_answered</th>\n",
       "    </tr>\n",
       "    <tr>\n",
       "      <th>პოლისის ნომერი (hash)</th>\n",
       "      <th>დამზღ პირადი ნომერი (hash)</th>\n",
       "      <th></th>\n",
       "      <th></th>\n",
       "      <th></th>\n",
       "      <th></th>\n",
       "      <th></th>\n",
       "      <th></th>\n",
       "      <th></th>\n",
       "      <th></th>\n",
       "      <th></th>\n",
       "      <th></th>\n",
       "      <th></th>\n",
       "      <th></th>\n",
       "      <th></th>\n",
       "      <th></th>\n",
       "      <th></th>\n",
       "      <th></th>\n",
       "      <th></th>\n",
       "      <th></th>\n",
       "      <th></th>\n",
       "      <th></th>\n",
       "      <th></th>\n",
       "      <th></th>\n",
       "      <th></th>\n",
       "      <th></th>\n",
       "      <th></th>\n",
       "      <th></th>\n",
       "      <th></th>\n",
       "      <th></th>\n",
       "      <th></th>\n",
       "      <th></th>\n",
       "      <th></th>\n",
       "      <th></th>\n",
       "      <th></th>\n",
       "      <th></th>\n",
       "    </tr>\n",
       "  </thead>\n",
       "  <tbody>\n",
       "    <tr>\n",
       "      <td>a33fff3fbe65ff7923448554f5f32f05b52ddf1f4cf88d0b682bb61afa0128b8</td>\n",
       "      <td>5c05f5ab96ae3736b288a7121c222b86a82c221e782b4dda5d8a8738d88adb96</td>\n",
       "      <td>0</td>\n",
       "      <td>0</td>\n",
       "      <td>1682.57</td>\n",
       "      <td>0</td>\n",
       "      <td>39.0</td>\n",
       "      <td>1</td>\n",
       "      <td>1</td>\n",
       "      <td>0</td>\n",
       "      <td>1</td>\n",
       "      <td>0</td>\n",
       "      <td>0</td>\n",
       "      <td>0</td>\n",
       "      <td>0</td>\n",
       "      <td>1</td>\n",
       "      <td>1</td>\n",
       "      <td>30</td>\n",
       "      <td>1</td>\n",
       "      <td>1</td>\n",
       "      <td>0</td>\n",
       "      <td>0</td>\n",
       "      <td>200</td>\n",
       "      <td>0.0</td>\n",
       "      <td>0</td>\n",
       "      <td>1</td>\n",
       "      <td>0</td>\n",
       "      <td>0</td>\n",
       "      <td>0</td>\n",
       "      <td>1</td>\n",
       "      <td>0</td>\n",
       "      <td>0.0</td>\n",
       "      <td>0.0</td>\n",
       "      <td>0.0</td>\n",
       "      <td>1.0</td>\n",
       "      <td>0.0</td>\n",
       "    </tr>\n",
       "    <tr>\n",
       "      <td>1caa70ee07ef8cb0f55f06f6bf43cb7d4853b13fe837a4e059b36d34c7b11036</td>\n",
       "      <td>70720759877097d63afb1e59d5f535413076b92a48e616f64363c680560f4028</td>\n",
       "      <td>0</td>\n",
       "      <td>0</td>\n",
       "      <td>670.00</td>\n",
       "      <td>0</td>\n",
       "      <td>51.0</td>\n",
       "      <td>0</td>\n",
       "      <td>0</td>\n",
       "      <td>0</td>\n",
       "      <td>1</td>\n",
       "      <td>0</td>\n",
       "      <td>0</td>\n",
       "      <td>1</td>\n",
       "      <td>0</td>\n",
       "      <td>0</td>\n",
       "      <td>0</td>\n",
       "      <td>22</td>\n",
       "      <td>1</td>\n",
       "      <td>1</td>\n",
       "      <td>0</td>\n",
       "      <td>0</td>\n",
       "      <td>0</td>\n",
       "      <td>0.0</td>\n",
       "      <td>0</td>\n",
       "      <td>0</td>\n",
       "      <td>0</td>\n",
       "      <td>0</td>\n",
       "      <td>1</td>\n",
       "      <td>0</td>\n",
       "      <td>0</td>\n",
       "      <td>0.0</td>\n",
       "      <td>0.0</td>\n",
       "      <td>0.0</td>\n",
       "      <td>1.0</td>\n",
       "      <td>0.0</td>\n",
       "    </tr>\n",
       "    <tr>\n",
       "      <td>634cc57a6f4ba919e81c0f01b7530de1f660b67183f597a1736922575791306f</td>\n",
       "      <td>21af9ba2c667dc7758c1d8fee8cf845c10a2b912077ff3284c49d6b377906fd8</td>\n",
       "      <td>0</td>\n",
       "      <td>0</td>\n",
       "      <td>1863.34</td>\n",
       "      <td>11</td>\n",
       "      <td>25.0</td>\n",
       "      <td>0</td>\n",
       "      <td>0</td>\n",
       "      <td>0</td>\n",
       "      <td>1</td>\n",
       "      <td>0</td>\n",
       "      <td>0</td>\n",
       "      <td>0</td>\n",
       "      <td>1</td>\n",
       "      <td>0</td>\n",
       "      <td>1</td>\n",
       "      <td>28</td>\n",
       "      <td>0</td>\n",
       "      <td>1</td>\n",
       "      <td>0</td>\n",
       "      <td>0</td>\n",
       "      <td>450</td>\n",
       "      <td>450.0</td>\n",
       "      <td>1</td>\n",
       "      <td>0</td>\n",
       "      <td>0</td>\n",
       "      <td>0</td>\n",
       "      <td>0</td>\n",
       "      <td>1</td>\n",
       "      <td>0</td>\n",
       "      <td>0.0</td>\n",
       "      <td>0.0</td>\n",
       "      <td>0.0</td>\n",
       "      <td>0.0</td>\n",
       "      <td>0.0</td>\n",
       "    </tr>\n",
       "    <tr>\n",
       "      <td>6e58638e7cd1bb63394922816cdbc8a1e50cc6ae6206cb9a05f75666df1571c7</td>\n",
       "      <td>ce3f168dac3aa97e04b770006e29b2bc6a5a4dca34a19811ddf65f7c18536cfd</td>\n",
       "      <td>0</td>\n",
       "      <td>0</td>\n",
       "      <td>1289.04</td>\n",
       "      <td>0</td>\n",
       "      <td>35.0</td>\n",
       "      <td>0</td>\n",
       "      <td>0</td>\n",
       "      <td>0</td>\n",
       "      <td>1</td>\n",
       "      <td>0</td>\n",
       "      <td>0</td>\n",
       "      <td>0</td>\n",
       "      <td>0</td>\n",
       "      <td>1</td>\n",
       "      <td>0</td>\n",
       "      <td>21</td>\n",
       "      <td>0</td>\n",
       "      <td>1</td>\n",
       "      <td>0</td>\n",
       "      <td>0</td>\n",
       "      <td>0</td>\n",
       "      <td>0.0</td>\n",
       "      <td>0</td>\n",
       "      <td>0</td>\n",
       "      <td>0</td>\n",
       "      <td>0</td>\n",
       "      <td>1</td>\n",
       "      <td>0</td>\n",
       "      <td>0</td>\n",
       "      <td>0.0</td>\n",
       "      <td>0.0</td>\n",
       "      <td>0.0</td>\n",
       "      <td>0.0</td>\n",
       "      <td>0.0</td>\n",
       "    </tr>\n",
       "    <tr>\n",
       "      <td>e831f0776cd9fd656387eb9de5a72009f1f747ce8d90e3f4e1d9f142b33b8e99</td>\n",
       "      <td>be7f92e24d1ad7c35f4b44afde3077178512c4a846da5f4194d5501a91bf3c11</td>\n",
       "      <td>0</td>\n",
       "      <td>0</td>\n",
       "      <td>1351.61</td>\n",
       "      <td>0</td>\n",
       "      <td>34.0</td>\n",
       "      <td>1</td>\n",
       "      <td>0</td>\n",
       "      <td>0</td>\n",
       "      <td>1</td>\n",
       "      <td>0</td>\n",
       "      <td>0</td>\n",
       "      <td>0</td>\n",
       "      <td>0</td>\n",
       "      <td>1</td>\n",
       "      <td>0</td>\n",
       "      <td>23</td>\n",
       "      <td>1</td>\n",
       "      <td>1</td>\n",
       "      <td>0</td>\n",
       "      <td>0</td>\n",
       "      <td>0</td>\n",
       "      <td>0.0</td>\n",
       "      <td>0</td>\n",
       "      <td>0</td>\n",
       "      <td>0</td>\n",
       "      <td>0</td>\n",
       "      <td>1</td>\n",
       "      <td>0</td>\n",
       "      <td>0</td>\n",
       "      <td>0.0</td>\n",
       "      <td>0.0</td>\n",
       "      <td>0.0</td>\n",
       "      <td>0.0</td>\n",
       "      <td>0.0</td>\n",
       "    </tr>\n",
       "  </tbody>\n",
       "</table>\n",
       "</div>"
      ],
      "text/plain": [
       "                                                                                                       წინა პოლისის ნომერი (hash)  \\\n",
       "პოლისის ნომერი (hash)                              დამზღ პირადი ნომერი (hash)                                                       \n",
       "a33fff3fbe65ff7923448554f5f32f05b52ddf1f4cf88d0... 5c05f5ab96ae3736b288a7121c222b86a82c221e782b4dd...                           0   \n",
       "1caa70ee07ef8cb0f55f06f6bf43cb7d4853b13fe837a4e... 70720759877097d63afb1e59d5f535413076b92a48e616f...                           0   \n",
       "634cc57a6f4ba919e81c0f01b7530de1f660b67183f597a... 21af9ba2c667dc7758c1d8fee8cf845c10a2b912077ff32...                           0   \n",
       "6e58638e7cd1bb63394922816cdbc8a1e50cc6ae6206cb9... ce3f168dac3aa97e04b770006e29b2bc6a5a4dca34a1981...                           0   \n",
       "e831f0776cd9fd656387eb9de5a72009f1f747ce8d90e3f... be7f92e24d1ad7c35f4b44afde3077178512c4a846da5f4...                           0   \n",
       "\n",
       "                                                                                                       Client Category (hash)  \\\n",
       "პოლისის ნომერი (hash)                              დამზღ პირადი ნომერი (hash)                                                   \n",
       "a33fff3fbe65ff7923448554f5f32f05b52ddf1f4cf88d0... 5c05f5ab96ae3736b288a7121c222b86a82c221e782b4dd...                       0   \n",
       "1caa70ee07ef8cb0f55f06f6bf43cb7d4853b13fe837a4e... 70720759877097d63afb1e59d5f535413076b92a48e616f...                       0   \n",
       "634cc57a6f4ba919e81c0f01b7530de1f660b67183f597a... 21af9ba2c667dc7758c1d8fee8cf845c10a2b912077ff32...                       0   \n",
       "6e58638e7cd1bb63394922816cdbc8a1e50cc6ae6206cb9... ce3f168dac3aa97e04b770006e29b2bc6a5a4dca34a1981...                       0   \n",
       "e831f0776cd9fd656387eb9de5a72009f1f747ce8d90e3f... be7f92e24d1ad7c35f4b44afde3077178512c4a846da5f4...                       0   \n",
       "\n",
       "                                                                                                        პრემია  \\\n",
       "პოლისის ნომერი (hash)                              დამზღ პირადი ნომერი (hash)                                    \n",
       "a33fff3fbe65ff7923448554f5f32f05b52ddf1f4cf88d0... 5c05f5ab96ae3736b288a7121c222b86a82c221e782b4dd...  1682.57   \n",
       "1caa70ee07ef8cb0f55f06f6bf43cb7d4853b13fe837a4e... 70720759877097d63afb1e59d5f535413076b92a48e616f...   670.00   \n",
       "634cc57a6f4ba919e81c0f01b7530de1f660b67183f597a... 21af9ba2c667dc7758c1d8fee8cf845c10a2b912077ff32...  1863.34   \n",
       "6e58638e7cd1bb63394922816cdbc8a1e50cc6ae6206cb9... ce3f168dac3aa97e04b770006e29b2bc6a5a4dca34a1981...  1289.04   \n",
       "e831f0776cd9fd656387eb9de5a72009f1f747ce8d90e3f... be7f92e24d1ad7c35f4b44afde3077178512c4a846da5f4...  1351.61   \n",
       "\n",
       "                                                                                                       ვადაგადაცილებული დღე  \\\n",
       "პოლისის ნომერი (hash)                              დამზღ პირადი ნომერი (hash)                                                 \n",
       "a33fff3fbe65ff7923448554f5f32f05b52ddf1f4cf88d0... 5c05f5ab96ae3736b288a7121c222b86a82c221e782b4dd...                     0   \n",
       "1caa70ee07ef8cb0f55f06f6bf43cb7d4853b13fe837a4e... 70720759877097d63afb1e59d5f535413076b92a48e616f...                     0   \n",
       "634cc57a6f4ba919e81c0f01b7530de1f660b67183f597a... 21af9ba2c667dc7758c1d8fee8cf845c10a2b912077ff32...                    11   \n",
       "6e58638e7cd1bb63394922816cdbc8a1e50cc6ae6206cb9... ce3f168dac3aa97e04b770006e29b2bc6a5a4dca34a1981...                     0   \n",
       "e831f0776cd9fd656387eb9de5a72009f1f747ce8d90e3f... be7f92e24d1ad7c35f4b44afde3077178512c4a846da5f4...                     0   \n",
       "\n",
       "                                                                                                       დამზღვევის ასაკი  \\\n",
       "პოლისის ნომერი (hash)                              დამზღ პირადი ნომერი (hash)                                             \n",
       "a33fff3fbe65ff7923448554f5f32f05b52ddf1f4cf88d0... 5c05f5ab96ae3736b288a7121c222b86a82c221e782b4dd...              39.0   \n",
       "1caa70ee07ef8cb0f55f06f6bf43cb7d4853b13fe837a4e... 70720759877097d63afb1e59d5f535413076b92a48e616f...              51.0   \n",
       "634cc57a6f4ba919e81c0f01b7530de1f660b67183f597a... 21af9ba2c667dc7758c1d8fee8cf845c10a2b912077ff32...              25.0   \n",
       "6e58638e7cd1bb63394922816cdbc8a1e50cc6ae6206cb9... ce3f168dac3aa97e04b770006e29b2bc6a5a4dca34a1981...              35.0   \n",
       "e831f0776cd9fd656387eb9de5a72009f1f747ce8d90e3f... be7f92e24d1ad7c35f4b44afde3077178512c4a846da5f4...              34.0   \n",
       "\n",
       "                                                                                                       დამზღვევი ქალია  \\\n",
       "პოლისის ნომერი (hash)                              დამზღ პირადი ნომერი (hash)                                            \n",
       "a33fff3fbe65ff7923448554f5f32f05b52ddf1f4cf88d0... 5c05f5ab96ae3736b288a7121c222b86a82c221e782b4dd...                1   \n",
       "1caa70ee07ef8cb0f55f06f6bf43cb7d4853b13fe837a4e... 70720759877097d63afb1e59d5f535413076b92a48e616f...                0   \n",
       "634cc57a6f4ba919e81c0f01b7530de1f660b67183f597a... 21af9ba2c667dc7758c1d8fee8cf845c10a2b912077ff32...                0   \n",
       "6e58638e7cd1bb63394922816cdbc8a1e50cc6ae6206cb9... ce3f168dac3aa97e04b770006e29b2bc6a5a4dca34a1981...                0   \n",
       "e831f0776cd9fd656387eb9de5a72009f1f747ce8d90e3f... be7f92e24d1ad7c35f4b44afde3077178512c4a846da5f4...                1   \n",
       "\n",
       "                                                                                                       ბოლომდე არ გადაიხადა  \\\n",
       "პოლისის ნომერი (hash)                              დამზღ პირადი ნომერი (hash)                                                 \n",
       "a33fff3fbe65ff7923448554f5f32f05b52ddf1f4cf88d0... 5c05f5ab96ae3736b288a7121c222b86a82c221e782b4dd...                     1   \n",
       "1caa70ee07ef8cb0f55f06f6bf43cb7d4853b13fe837a4e... 70720759877097d63afb1e59d5f535413076b92a48e616f...                     0   \n",
       "634cc57a6f4ba919e81c0f01b7530de1f660b67183f597a... 21af9ba2c667dc7758c1d8fee8cf845c10a2b912077ff32...                     0   \n",
       "6e58638e7cd1bb63394922816cdbc8a1e50cc6ae6206cb9... ce3f168dac3aa97e04b770006e29b2bc6a5a4dca34a1981...                     0   \n",
       "e831f0776cd9fd656387eb9de5a72009f1f747ce8d90e3f... be7f92e24d1ad7c35f4b44afde3077178512c4a846da5f4...                     0   \n",
       "\n",
       "                                                                                                       Motor TPL Package  \\\n",
       "პოლისის ნომერი (hash)                              დამზღ პირადი ნომერი (hash)                                              \n",
       "a33fff3fbe65ff7923448554f5f32f05b52ddf1f4cf88d0... 5c05f5ab96ae3736b288a7121c222b86a82c221e782b4dd...                  0   \n",
       "1caa70ee07ef8cb0f55f06f6bf43cb7d4853b13fe837a4e... 70720759877097d63afb1e59d5f535413076b92a48e616f...                  0   \n",
       "634cc57a6f4ba919e81c0f01b7530de1f660b67183f597a... 21af9ba2c667dc7758c1d8fee8cf845c10a2b912077ff32...                  0   \n",
       "6e58638e7cd1bb63394922816cdbc8a1e50cc6ae6206cb9... ce3f168dac3aa97e04b770006e29b2bc6a5a4dca34a1981...                  0   \n",
       "e831f0776cd9fd656387eb9de5a72009f1f747ce8d90e3f... be7f92e24d1ad7c35f4b44afde3077178512c4a846da5f4...                  0   \n",
       "\n",
       "                                                                                                       MotorPackage  \\\n",
       "პოლისის ნომერი (hash)                              დამზღ პირადი ნომერი (hash)                                         \n",
       "a33fff3fbe65ff7923448554f5f32f05b52ddf1f4cf88d0... 5c05f5ab96ae3736b288a7121c222b86a82c221e782b4dd...             1   \n",
       "1caa70ee07ef8cb0f55f06f6bf43cb7d4853b13fe837a4e... 70720759877097d63afb1e59d5f535413076b92a48e616f...             1   \n",
       "634cc57a6f4ba919e81c0f01b7530de1f660b67183f597a... 21af9ba2c667dc7758c1d8fee8cf845c10a2b912077ff32...             1   \n",
       "6e58638e7cd1bb63394922816cdbc8a1e50cc6ae6206cb9... ce3f168dac3aa97e04b770006e29b2bc6a5a4dca34a1981...             1   \n",
       "e831f0776cd9fd656387eb9de5a72009f1f747ce8d90e3f... be7f92e24d1ad7c35f4b44afde3077178512c4a846da5f4...             1   \n",
       "\n",
       "                                                                                                       PropertyPackage  \\\n",
       "პოლისის ნომერი (hash)                              დამზღ პირადი ნომერი (hash)                                            \n",
       "a33fff3fbe65ff7923448554f5f32f05b52ddf1f4cf88d0... 5c05f5ab96ae3736b288a7121c222b86a82c221e782b4dd...                0   \n",
       "1caa70ee07ef8cb0f55f06f6bf43cb7d4853b13fe837a4e... 70720759877097d63afb1e59d5f535413076b92a48e616f...                0   \n",
       "634cc57a6f4ba919e81c0f01b7530de1f660b67183f597a... 21af9ba2c667dc7758c1d8fee8cf845c10a2b912077ff32...                0   \n",
       "6e58638e7cd1bb63394922816cdbc8a1e50cc6ae6206cb9... ce3f168dac3aa97e04b770006e29b2bc6a5a4dca34a1981...                0   \n",
       "e831f0776cd9fd656387eb9de5a72009f1f747ce8d90e3f... be7f92e24d1ad7c35f4b44afde3077178512c4a846da5f4...                0   \n",
       "\n",
       "                                                                                                       TravelPackage  \\\n",
       "პოლისის ნომერი (hash)                              დამზღ პირადი ნომერი (hash)                                          \n",
       "a33fff3fbe65ff7923448554f5f32f05b52ddf1f4cf88d0... 5c05f5ab96ae3736b288a7121c222b86a82c221e782b4dd...              0   \n",
       "1caa70ee07ef8cb0f55f06f6bf43cb7d4853b13fe837a4e... 70720759877097d63afb1e59d5f535413076b92a48e616f...              0   \n",
       "634cc57a6f4ba919e81c0f01b7530de1f660b67183f597a... 21af9ba2c667dc7758c1d8fee8cf845c10a2b912077ff32...              0   \n",
       "6e58638e7cd1bb63394922816cdbc8a1e50cc6ae6206cb9... ce3f168dac3aa97e04b770006e29b2bc6a5a4dca34a1981...              0   \n",
       "e831f0776cd9fd656387eb9de5a72009f1f747ce8d90e3f... be7f92e24d1ad7c35f4b44afde3077178512c4a846da5f4...              0   \n",
       "\n",
       "                                                                                                       1990.0  \\\n",
       "პოლისის ნომერი (hash)                              დამზღ პირადი ნომერი (hash)                                   \n",
       "a33fff3fbe65ff7923448554f5f32f05b52ddf1f4cf88d0... 5c05f5ab96ae3736b288a7121c222b86a82c221e782b4dd...       0   \n",
       "1caa70ee07ef8cb0f55f06f6bf43cb7d4853b13fe837a4e... 70720759877097d63afb1e59d5f535413076b92a48e616f...       1   \n",
       "634cc57a6f4ba919e81c0f01b7530de1f660b67183f597a... 21af9ba2c667dc7758c1d8fee8cf845c10a2b912077ff32...       0   \n",
       "6e58638e7cd1bb63394922816cdbc8a1e50cc6ae6206cb9... ce3f168dac3aa97e04b770006e29b2bc6a5a4dca34a1981...       0   \n",
       "e831f0776cd9fd656387eb9de5a72009f1f747ce8d90e3f... be7f92e24d1ad7c35f4b44afde3077178512c4a846da5f4...       0   \n",
       "\n",
       "                                                                                                       2000.0  \\\n",
       "პოლისის ნომერი (hash)                              დამზღ პირადი ნომერი (hash)                                   \n",
       "a33fff3fbe65ff7923448554f5f32f05b52ddf1f4cf88d0... 5c05f5ab96ae3736b288a7121c222b86a82c221e782b4dd...       0   \n",
       "1caa70ee07ef8cb0f55f06f6bf43cb7d4853b13fe837a4e... 70720759877097d63afb1e59d5f535413076b92a48e616f...       0   \n",
       "634cc57a6f4ba919e81c0f01b7530de1f660b67183f597a... 21af9ba2c667dc7758c1d8fee8cf845c10a2b912077ff32...       1   \n",
       "6e58638e7cd1bb63394922816cdbc8a1e50cc6ae6206cb9... ce3f168dac3aa97e04b770006e29b2bc6a5a4dca34a1981...       0   \n",
       "e831f0776cd9fd656387eb9de5a72009f1f747ce8d90e3f... be7f92e24d1ad7c35f4b44afde3077178512c4a846da5f4...       0   \n",
       "\n",
       "                                                                                                       2010.0  \\\n",
       "პოლისის ნომერი (hash)                              დამზღ პირადი ნომერი (hash)                                   \n",
       "a33fff3fbe65ff7923448554f5f32f05b52ddf1f4cf88d0... 5c05f5ab96ae3736b288a7121c222b86a82c221e782b4dd...       1   \n",
       "1caa70ee07ef8cb0f55f06f6bf43cb7d4853b13fe837a4e... 70720759877097d63afb1e59d5f535413076b92a48e616f...       0   \n",
       "634cc57a6f4ba919e81c0f01b7530de1f660b67183f597a... 21af9ba2c667dc7758c1d8fee8cf845c10a2b912077ff32...       0   \n",
       "6e58638e7cd1bb63394922816cdbc8a1e50cc6ae6206cb9... ce3f168dac3aa97e04b770006e29b2bc6a5a4dca34a1981...       1   \n",
       "e831f0776cd9fd656387eb9de5a72009f1f747ce8d90e3f... be7f92e24d1ad7c35f4b44afde3077178512c4a846da5f4...       1   \n",
       "\n",
       "                                                                                                       თანამშრომლი ქალია  \\\n",
       "პოლისის ნომერი (hash)                              დამზღ პირადი ნომერი (hash)                                              \n",
       "a33fff3fbe65ff7923448554f5f32f05b52ddf1f4cf88d0... 5c05f5ab96ae3736b288a7121c222b86a82c221e782b4dd...                  1   \n",
       "1caa70ee07ef8cb0f55f06f6bf43cb7d4853b13fe837a4e... 70720759877097d63afb1e59d5f535413076b92a48e616f...                  0   \n",
       "634cc57a6f4ba919e81c0f01b7530de1f660b67183f597a... 21af9ba2c667dc7758c1d8fee8cf845c10a2b912077ff32...                  1   \n",
       "6e58638e7cd1bb63394922816cdbc8a1e50cc6ae6206cb9... ce3f168dac3aa97e04b770006e29b2bc6a5a4dca34a1981...                  0   \n",
       "e831f0776cd9fd656387eb9de5a72009f1f747ce8d90e3f... be7f92e24d1ad7c35f4b44afde3077178512c4a846da5f4...                  0   \n",
       "\n",
       "                                                                                                       პასუხისმგებლის ასაკი  \\\n",
       "პოლისის ნომერი (hash)                              დამზღ პირადი ნომერი (hash)                                                 \n",
       "a33fff3fbe65ff7923448554f5f32f05b52ddf1f4cf88d0... 5c05f5ab96ae3736b288a7121c222b86a82c221e782b4dd...                    30   \n",
       "1caa70ee07ef8cb0f55f06f6bf43cb7d4853b13fe837a4e... 70720759877097d63afb1e59d5f535413076b92a48e616f...                    22   \n",
       "634cc57a6f4ba919e81c0f01b7530de1f660b67183f597a... 21af9ba2c667dc7758c1d8fee8cf845c10a2b912077ff32...                    28   \n",
       "6e58638e7cd1bb63394922816cdbc8a1e50cc6ae6206cb9... ce3f168dac3aa97e04b770006e29b2bc6a5a4dca34a1981...                    21   \n",
       "e831f0776cd9fd656387eb9de5a72009f1f747ce8d90e3f... be7f92e24d1ad7c35f4b44afde3077178512c4a846da5f4...                    23   \n",
       "\n",
       "                                                                                                       დამზღ არის მესაკუთრე  \\\n",
       "პოლისის ნომერი (hash)                              დამზღ პირადი ნომერი (hash)                                                 \n",
       "a33fff3fbe65ff7923448554f5f32f05b52ddf1f4cf88d0... 5c05f5ab96ae3736b288a7121c222b86a82c221e782b4dd...                     1   \n",
       "1caa70ee07ef8cb0f55f06f6bf43cb7d4853b13fe837a4e... 70720759877097d63afb1e59d5f535413076b92a48e616f...                     1   \n",
       "634cc57a6f4ba919e81c0f01b7530de1f660b67183f597a... 21af9ba2c667dc7758c1d8fee8cf845c10a2b912077ff32...                     0   \n",
       "6e58638e7cd1bb63394922816cdbc8a1e50cc6ae6206cb9... ce3f168dac3aa97e04b770006e29b2bc6a5a4dca34a1981...                     0   \n",
       "e831f0776cd9fd656387eb9de5a72009f1f747ce8d90e3f... be7f92e24d1ad7c35f4b44afde3077178512c4a846da5f4...                     1   \n",
       "\n",
       "                                                                                                       ჯგუფი 1  \\\n",
       "პოლისის ნომერი (hash)                              დამზღ პირადი ნომერი (hash)                                    \n",
       "a33fff3fbe65ff7923448554f5f32f05b52ddf1f4cf88d0... 5c05f5ab96ae3736b288a7121c222b86a82c221e782b4dd...        1   \n",
       "1caa70ee07ef8cb0f55f06f6bf43cb7d4853b13fe837a4e... 70720759877097d63afb1e59d5f535413076b92a48e616f...        1   \n",
       "634cc57a6f4ba919e81c0f01b7530de1f660b67183f597a... 21af9ba2c667dc7758c1d8fee8cf845c10a2b912077ff32...        1   \n",
       "6e58638e7cd1bb63394922816cdbc8a1e50cc6ae6206cb9... ce3f168dac3aa97e04b770006e29b2bc6a5a4dca34a1981...        1   \n",
       "e831f0776cd9fd656387eb9de5a72009f1f747ce8d90e3f... be7f92e24d1ad7c35f4b44afde3077178512c4a846da5f4...        1   \n",
       "\n",
       "                                                                                                       ჯგუფი 2  \\\n",
       "პოლისის ნომერი (hash)                              დამზღ პირადი ნომერი (hash)                                    \n",
       "a33fff3fbe65ff7923448554f5f32f05b52ddf1f4cf88d0... 5c05f5ab96ae3736b288a7121c222b86a82c221e782b4dd...        0   \n",
       "1caa70ee07ef8cb0f55f06f6bf43cb7d4853b13fe837a4e... 70720759877097d63afb1e59d5f535413076b92a48e616f...        0   \n",
       "634cc57a6f4ba919e81c0f01b7530de1f660b67183f597a... 21af9ba2c667dc7758c1d8fee8cf845c10a2b912077ff32...        0   \n",
       "6e58638e7cd1bb63394922816cdbc8a1e50cc6ae6206cb9... ce3f168dac3aa97e04b770006e29b2bc6a5a4dca34a1981...        0   \n",
       "e831f0776cd9fd656387eb9de5a72009f1f747ce8d90e3f... be7f92e24d1ad7c35f4b44afde3077178512c4a846da5f4...        0   \n",
       "\n",
       "                                                                                                       ჯგუფი 3  \\\n",
       "პოლისის ნომერი (hash)                              დამზღ პირადი ნომერი (hash)                                    \n",
       "a33fff3fbe65ff7923448554f5f32f05b52ddf1f4cf88d0... 5c05f5ab96ae3736b288a7121c222b86a82c221e782b4dd...        0   \n",
       "1caa70ee07ef8cb0f55f06f6bf43cb7d4853b13fe837a4e... 70720759877097d63afb1e59d5f535413076b92a48e616f...        0   \n",
       "634cc57a6f4ba919e81c0f01b7530de1f660b67183f597a... 21af9ba2c667dc7758c1d8fee8cf845c10a2b912077ff32...        0   \n",
       "6e58638e7cd1bb63394922816cdbc8a1e50cc6ae6206cb9... ce3f168dac3aa97e04b770006e29b2bc6a5a4dca34a1981...        0   \n",
       "e831f0776cd9fd656387eb9de5a72009f1f747ce8d90e3f... be7f92e24d1ad7c35f4b44afde3077178512c4a846da5f4...        0   \n",
       "\n",
       "                                                                                                       მოთხოვნილი  \\\n",
       "პოლისის ნომერი (hash)                              დამზღ პირადი ნომერი (hash)                                       \n",
       "a33fff3fbe65ff7923448554f5f32f05b52ddf1f4cf88d0... 5c05f5ab96ae3736b288a7121c222b86a82c221e782b4dd...         200   \n",
       "1caa70ee07ef8cb0f55f06f6bf43cb7d4853b13fe837a4e... 70720759877097d63afb1e59d5f535413076b92a48e616f...           0   \n",
       "634cc57a6f4ba919e81c0f01b7530de1f660b67183f597a... 21af9ba2c667dc7758c1d8fee8cf845c10a2b912077ff32...         450   \n",
       "6e58638e7cd1bb63394922816cdbc8a1e50cc6ae6206cb9... ce3f168dac3aa97e04b770006e29b2bc6a5a4dca34a1981...           0   \n",
       "e831f0776cd9fd656387eb9de5a72009f1f747ce8d90e3f... be7f92e24d1ad7c35f4b44afde3077178512c4a846da5f4...           0   \n",
       "\n",
       "                                                                                                       ანაზღაურებული  \\\n",
       "პოლისის ნომერი (hash)                              დამზღ პირადი ნომერი (hash)                                          \n",
       "a33fff3fbe65ff7923448554f5f32f05b52ddf1f4cf88d0... 5c05f5ab96ae3736b288a7121c222b86a82c221e782b4dd...            0.0   \n",
       "1caa70ee07ef8cb0f55f06f6bf43cb7d4853b13fe837a4e... 70720759877097d63afb1e59d5f535413076b92a48e616f...            0.0   \n",
       "634cc57a6f4ba919e81c0f01b7530de1f660b67183f597a... 21af9ba2c667dc7758c1d8fee8cf845c10a2b912077ff32...          450.0   \n",
       "6e58638e7cd1bb63394922816cdbc8a1e50cc6ae6206cb9... ce3f168dac3aa97e04b770006e29b2bc6a5a4dca34a1981...            0.0   \n",
       "e831f0776cd9fd656387eb9de5a72009f1f747ce8d90e3f... be7f92e24d1ad7c35f4b44afde3077178512c4a846da5f4...            0.0   \n",
       "\n",
       "                                                                                                       დაკმაყოფილებული  \\\n",
       "პოლისის ნომერი (hash)                              დამზღ პირადი ნომერი (hash)                                            \n",
       "a33fff3fbe65ff7923448554f5f32f05b52ddf1f4cf88d0... 5c05f5ab96ae3736b288a7121c222b86a82c221e782b4dd...                0   \n",
       "1caa70ee07ef8cb0f55f06f6bf43cb7d4853b13fe837a4e... 70720759877097d63afb1e59d5f535413076b92a48e616f...                0   \n",
       "634cc57a6f4ba919e81c0f01b7530de1f660b67183f597a... 21af9ba2c667dc7758c1d8fee8cf845c10a2b912077ff32...                1   \n",
       "6e58638e7cd1bb63394922816cdbc8a1e50cc6ae6206cb9... ce3f168dac3aa97e04b770006e29b2bc6a5a4dca34a1981...                0   \n",
       "e831f0776cd9fd656387eb9de5a72009f1f747ce8d90e3f... be7f92e24d1ad7c35f4b44afde3077178512c4a846da5f4...                0   \n",
       "\n",
       "                                                                                                       დაუკმაყოფილებელი  \\\n",
       "პოლისის ნომერი (hash)                              დამზღ პირადი ნომერი (hash)                                             \n",
       "a33fff3fbe65ff7923448554f5f32f05b52ddf1f4cf88d0... 5c05f5ab96ae3736b288a7121c222b86a82c221e782b4dd...                 1   \n",
       "1caa70ee07ef8cb0f55f06f6bf43cb7d4853b13fe837a4e... 70720759877097d63afb1e59d5f535413076b92a48e616f...                 0   \n",
       "634cc57a6f4ba919e81c0f01b7530de1f660b67183f597a... 21af9ba2c667dc7758c1d8fee8cf845c10a2b912077ff32...                 0   \n",
       "6e58638e7cd1bb63394922816cdbc8a1e50cc6ae6206cb9... ce3f168dac3aa97e04b770006e29b2bc6a5a4dca34a1981...                 0   \n",
       "e831f0776cd9fd656387eb9de5a72009f1f747ce8d90e3f... be7f92e24d1ad7c35f4b44afde3077178512c4a846da5f4...                 0   \n",
       "\n",
       "                                                                                                       ნაკლებად_დაკმაყოფილებული  \\\n",
       "პოლისის ნომერი (hash)                              დამზღ პირადი ნომერი (hash)                                                     \n",
       "a33fff3fbe65ff7923448554f5f32f05b52ddf1f4cf88d0... 5c05f5ab96ae3736b288a7121c222b86a82c221e782b4dd...                         0   \n",
       "1caa70ee07ef8cb0f55f06f6bf43cb7d4853b13fe837a4e... 70720759877097d63afb1e59d5f535413076b92a48e616f...                         0   \n",
       "634cc57a6f4ba919e81c0f01b7530de1f660b67183f597a... 21af9ba2c667dc7758c1d8fee8cf845c10a2b912077ff32...                         0   \n",
       "6e58638e7cd1bb63394922816cdbc8a1e50cc6ae6206cb9... ce3f168dac3aa97e04b770006e29b2bc6a5a4dca34a1981...                         0   \n",
       "e831f0776cd9fd656387eb9de5a72009f1f747ce8d90e3f... be7f92e24d1ad7c35f4b44afde3077178512c4a846da5f4...                         0   \n",
       "\n",
       "                                                                                                       ზედმეტად_დაკმაყოფილებული  \\\n",
       "პოლისის ნომერი (hash)                              დამზღ პირადი ნომერი (hash)                                                     \n",
       "a33fff3fbe65ff7923448554f5f32f05b52ddf1f4cf88d0... 5c05f5ab96ae3736b288a7121c222b86a82c221e782b4dd...                         0   \n",
       "1caa70ee07ef8cb0f55f06f6bf43cb7d4853b13fe837a4e... 70720759877097d63afb1e59d5f535413076b92a48e616f...                         0   \n",
       "634cc57a6f4ba919e81c0f01b7530de1f660b67183f597a... 21af9ba2c667dc7758c1d8fee8cf845c10a2b912077ff32...                         0   \n",
       "6e58638e7cd1bb63394922816cdbc8a1e50cc6ae6206cb9... ce3f168dac3aa97e04b770006e29b2bc6a5a4dca34a1981...                         0   \n",
       "e831f0776cd9fd656387eb9de5a72009f1f747ce8d90e3f... be7f92e24d1ad7c35f4b44afde3077178512c4a846da5f4...                         0   \n",
       "\n",
       "                                                                                                       no_status  \\\n",
       "პოლისის ნომერი (hash)                              დამზღ პირადი ნომერი (hash)                                      \n",
       "a33fff3fbe65ff7923448554f5f32f05b52ddf1f4cf88d0... 5c05f5ab96ae3736b288a7121c222b86a82c221e782b4dd...          0   \n",
       "1caa70ee07ef8cb0f55f06f6bf43cb7d4853b13fe837a4e... 70720759877097d63afb1e59d5f535413076b92a48e616f...          1   \n",
       "634cc57a6f4ba919e81c0f01b7530de1f660b67183f597a... 21af9ba2c667dc7758c1d8fee8cf845c10a2b912077ff32...          0   \n",
       "6e58638e7cd1bb63394922816cdbc8a1e50cc6ae6206cb9... ce3f168dac3aa97e04b770006e29b2bc6a5a4dca34a1981...          1   \n",
       "e831f0776cd9fd656387eb9de5a72009f1f747ce8d90e3f... be7f92e24d1ad7c35f4b44afde3077178512c4a846da5f4...          1   \n",
       "\n",
       "                                                                                                       დასრულებულია  \\\n",
       "პოლისის ნომერი (hash)                              დამზღ პირადი ნომერი (hash)                                         \n",
       "a33fff3fbe65ff7923448554f5f32f05b52ddf1f4cf88d0... 5c05f5ab96ae3736b288a7121c222b86a82c221e782b4dd...             1   \n",
       "1caa70ee07ef8cb0f55f06f6bf43cb7d4853b13fe837a4e... 70720759877097d63afb1e59d5f535413076b92a48e616f...             0   \n",
       "634cc57a6f4ba919e81c0f01b7530de1f660b67183f597a... 21af9ba2c667dc7758c1d8fee8cf845c10a2b912077ff32...             1   \n",
       "6e58638e7cd1bb63394922816cdbc8a1e50cc6ae6206cb9... ce3f168dac3aa97e04b770006e29b2bc6a5a4dca34a1981...             0   \n",
       "e831f0776cd9fd656387eb9de5a72009f1f747ce8d90e3f... be7f92e24d1ad7c35f4b44afde3077178512c4a846da5f4...             0   \n",
       "\n",
       "                                                                                                       პროცესშია  \\\n",
       "პოლისის ნომერი (hash)                              დამზღ პირადი ნომერი (hash)                                      \n",
       "a33fff3fbe65ff7923448554f5f32f05b52ddf1f4cf88d0... 5c05f5ab96ae3736b288a7121c222b86a82c221e782b4dd...          0   \n",
       "1caa70ee07ef8cb0f55f06f6bf43cb7d4853b13fe837a4e... 70720759877097d63afb1e59d5f535413076b92a48e616f...          0   \n",
       "634cc57a6f4ba919e81c0f01b7530de1f660b67183f597a... 21af9ba2c667dc7758c1d8fee8cf845c10a2b912077ff32...          0   \n",
       "6e58638e7cd1bb63394922816cdbc8a1e50cc6ae6206cb9... ce3f168dac3aa97e04b770006e29b2bc6a5a4dca34a1981...          0   \n",
       "e831f0776cd9fd656387eb9de5a72009f1f747ce8d90e3f... be7f92e24d1ad7c35f4b44afde3077178512c4a846da5f4...          0   \n",
       "\n",
       "                                                                                                       გარეცხვის რაოდენობა  \\\n",
       "პოლისის ნომერი (hash)                              დამზღ პირადი ნომერი (hash)                                                \n",
       "a33fff3fbe65ff7923448554f5f32f05b52ddf1f4cf88d0... 5c05f5ab96ae3736b288a7121c222b86a82c221e782b4dd...                  0.0   \n",
       "1caa70ee07ef8cb0f55f06f6bf43cb7d4853b13fe837a4e... 70720759877097d63afb1e59d5f535413076b92a48e616f...                  0.0   \n",
       "634cc57a6f4ba919e81c0f01b7530de1f660b67183f597a... 21af9ba2c667dc7758c1d8fee8cf845c10a2b912077ff32...                  0.0   \n",
       "6e58638e7cd1bb63394922816cdbc8a1e50cc6ae6206cb9... ce3f168dac3aa97e04b770006e29b2bc6a5a4dca34a1981...                  0.0   \n",
       "e831f0776cd9fd656387eb9de5a72009f1f747ce8d90e3f... be7f92e24d1ad7c35f4b44afde3077178512c4a846da5f4...                  0.0   \n",
       "\n",
       "                                                                                                       in_abandon  \\\n",
       "პოლისის ნომერი (hash)                              დამზღ პირადი ნომერი (hash)                                       \n",
       "a33fff3fbe65ff7923448554f5f32f05b52ddf1f4cf88d0... 5c05f5ab96ae3736b288a7121c222b86a82c221e782b4dd...         0.0   \n",
       "1caa70ee07ef8cb0f55f06f6bf43cb7d4853b13fe837a4e... 70720759877097d63afb1e59d5f535413076b92a48e616f...         0.0   \n",
       "634cc57a6f4ba919e81c0f01b7530de1f660b67183f597a... 21af9ba2c667dc7758c1d8fee8cf845c10a2b912077ff32...         0.0   \n",
       "6e58638e7cd1bb63394922816cdbc8a1e50cc6ae6206cb9... ce3f168dac3aa97e04b770006e29b2bc6a5a4dca34a1981...         0.0   \n",
       "e831f0776cd9fd656387eb9de5a72009f1f747ce8d90e3f... be7f92e24d1ad7c35f4b44afde3077178512c4a846da5f4...         0.0   \n",
       "\n",
       "                                                                                                       out_abandon  \\\n",
       "პოლისის ნომერი (hash)                              დამზღ პირადი ნომერი (hash)                                        \n",
       "a33fff3fbe65ff7923448554f5f32f05b52ddf1f4cf88d0... 5c05f5ab96ae3736b288a7121c222b86a82c221e782b4dd...          0.0   \n",
       "1caa70ee07ef8cb0f55f06f6bf43cb7d4853b13fe837a4e... 70720759877097d63afb1e59d5f535413076b92a48e616f...          0.0   \n",
       "634cc57a6f4ba919e81c0f01b7530de1f660b67183f597a... 21af9ba2c667dc7758c1d8fee8cf845c10a2b912077ff32...          0.0   \n",
       "6e58638e7cd1bb63394922816cdbc8a1e50cc6ae6206cb9... ce3f168dac3aa97e04b770006e29b2bc6a5a4dca34a1981...          0.0   \n",
       "e831f0776cd9fd656387eb9de5a72009f1f747ce8d90e3f... be7f92e24d1ad7c35f4b44afde3077178512c4a846da5f4...          0.0   \n",
       "\n",
       "                                                                                                       in_answered  \\\n",
       "პოლისის ნომერი (hash)                              დამზღ პირადი ნომერი (hash)                                        \n",
       "a33fff3fbe65ff7923448554f5f32f05b52ddf1f4cf88d0... 5c05f5ab96ae3736b288a7121c222b86a82c221e782b4dd...          1.0   \n",
       "1caa70ee07ef8cb0f55f06f6bf43cb7d4853b13fe837a4e... 70720759877097d63afb1e59d5f535413076b92a48e616f...          1.0   \n",
       "634cc57a6f4ba919e81c0f01b7530de1f660b67183f597a... 21af9ba2c667dc7758c1d8fee8cf845c10a2b912077ff32...          0.0   \n",
       "6e58638e7cd1bb63394922816cdbc8a1e50cc6ae6206cb9... ce3f168dac3aa97e04b770006e29b2bc6a5a4dca34a1981...          0.0   \n",
       "e831f0776cd9fd656387eb9de5a72009f1f747ce8d90e3f... be7f92e24d1ad7c35f4b44afde3077178512c4a846da5f4...          0.0   \n",
       "\n",
       "                                                                                                       out_answered  \n",
       "პოლისის ნომერი (hash)                              დამზღ პირადი ნომერი (hash)                                        \n",
       "a33fff3fbe65ff7923448554f5f32f05b52ddf1f4cf88d0... 5c05f5ab96ae3736b288a7121c222b86a82c221e782b4dd...           0.0  \n",
       "1caa70ee07ef8cb0f55f06f6bf43cb7d4853b13fe837a4e... 70720759877097d63afb1e59d5f535413076b92a48e616f...           0.0  \n",
       "634cc57a6f4ba919e81c0f01b7530de1f660b67183f597a... 21af9ba2c667dc7758c1d8fee8cf845c10a2b912077ff32...           0.0  \n",
       "6e58638e7cd1bb63394922816cdbc8a1e50cc6ae6206cb9... ce3f168dac3aa97e04b770006e29b2bc6a5a4dca34a1981...           0.0  \n",
       "e831f0776cd9fd656387eb9de5a72009f1f747ce8d90e3f... be7f92e24d1ad7c35f4b44afde3077178512c4a846da5f4...           0.0  "
      ]
     },
     "metadata": {},
     "output_type": "display_data"
    }
   ],
   "source": [
    "display_all(df.head())"
   ]
  },
  {
   "cell_type": "markdown",
   "metadata": {},
   "source": [
    "# Now let's split the dataset and start preparing the model"
   ]
  },
  {
   "cell_type": "code",
   "execution_count": 203,
   "metadata": {},
   "outputs": [],
   "source": [
    "new_df=df.copy()"
   ]
  },
  {
   "cell_type": "code",
   "execution_count": 204,
   "metadata": {},
   "outputs": [],
   "source": [
    "from sklearn.model_selection import train_test_split\n",
    "from sklearn.preprocessing import MinMaxScaler\n",
    "from imblearn.over_sampling import SMOTE\n",
    "from sklearn.utils import resample\n",
    "from sklearn.metrics import accuracy_score\n",
    "\n",
    "from sklearn.linear_model import LogisticRegression\n",
    "from sklearn.tree import DecisionTreeClassifier\n",
    "from sklearn.ensemble import RandomForestClassifier\n",
    "from sklearn.discriminant_analysis import LinearDiscriminantAnalysis\n",
    "from sklearn.naive_bayes import GaussianNB\n",
    "\n",
    "from sklearn.neighbors import KNeighborsClassifier\n",
    "from sklearn.svm import SVC\n",
    "\n",
    "import pickle\n",
    "import time"
   ]
  },
  {
   "cell_type": "code",
   "execution_count": 205,
   "metadata": {},
   "outputs": [],
   "source": [
    "X = new_df.drop(labels = [\"ბოლომდე არ გადაიხადა\"], axis = 1)"
   ]
  },
  {
   "cell_type": "code",
   "execution_count": 206,
   "metadata": {},
   "outputs": [
    {
     "data": {
      "text/html": [
       "<div>\n",
       "<style scoped>\n",
       "    .dataframe tbody tr th:only-of-type {\n",
       "        vertical-align: middle;\n",
       "    }\n",
       "\n",
       "    .dataframe tbody tr th {\n",
       "        vertical-align: top;\n",
       "    }\n",
       "\n",
       "    .dataframe thead th {\n",
       "        text-align: right;\n",
       "    }\n",
       "</style>\n",
       "<table border=\"1\" class=\"dataframe\">\n",
       "  <thead>\n",
       "    <tr style=\"text-align: right;\">\n",
       "      <th></th>\n",
       "      <th></th>\n",
       "      <th>წინა პოლისის ნომერი (hash)</th>\n",
       "      <th>Client Category (hash)</th>\n",
       "      <th>პრემია</th>\n",
       "      <th>ვადაგადაცილებული დღე</th>\n",
       "      <th>დამზღვევის ასაკი</th>\n",
       "      <th>დამზღვევი ქალია</th>\n",
       "      <th>Motor TPL Package</th>\n",
       "      <th>MotorPackage</th>\n",
       "      <th>PropertyPackage</th>\n",
       "      <th>TravelPackage</th>\n",
       "      <th>...</th>\n",
       "      <th>ნაკლებად_დაკმაყოფილებული</th>\n",
       "      <th>ზედმეტად_დაკმაყოფილებული</th>\n",
       "      <th>no_status</th>\n",
       "      <th>დასრულებულია</th>\n",
       "      <th>პროცესშია</th>\n",
       "      <th>გარეცხვის რაოდენობა</th>\n",
       "      <th>in_abandon</th>\n",
       "      <th>out_abandon</th>\n",
       "      <th>in_answered</th>\n",
       "      <th>out_answered</th>\n",
       "    </tr>\n",
       "    <tr>\n",
       "      <th>პოლისის ნომერი (hash)</th>\n",
       "      <th>დამზღ პირადი ნომერი (hash)</th>\n",
       "      <th></th>\n",
       "      <th></th>\n",
       "      <th></th>\n",
       "      <th></th>\n",
       "      <th></th>\n",
       "      <th></th>\n",
       "      <th></th>\n",
       "      <th></th>\n",
       "      <th></th>\n",
       "      <th></th>\n",
       "      <th></th>\n",
       "      <th></th>\n",
       "      <th></th>\n",
       "      <th></th>\n",
       "      <th></th>\n",
       "      <th></th>\n",
       "      <th></th>\n",
       "      <th></th>\n",
       "      <th></th>\n",
       "      <th></th>\n",
       "      <th></th>\n",
       "    </tr>\n",
       "  </thead>\n",
       "  <tbody>\n",
       "    <tr>\n",
       "      <td>a33fff3fbe65ff7923448554f5f32f05b52ddf1f4cf88d0b682bb61afa0128b8</td>\n",
       "      <td>5c05f5ab96ae3736b288a7121c222b86a82c221e782b4dda5d8a8738d88adb96</td>\n",
       "      <td>0</td>\n",
       "      <td>0</td>\n",
       "      <td>1682.57</td>\n",
       "      <td>0</td>\n",
       "      <td>39.0</td>\n",
       "      <td>1</td>\n",
       "      <td>0</td>\n",
       "      <td>1</td>\n",
       "      <td>0</td>\n",
       "      <td>0</td>\n",
       "      <td>...</td>\n",
       "      <td>0</td>\n",
       "      <td>0</td>\n",
       "      <td>0</td>\n",
       "      <td>1</td>\n",
       "      <td>0</td>\n",
       "      <td>0.0</td>\n",
       "      <td>0.0</td>\n",
       "      <td>0.0</td>\n",
       "      <td>1.0</td>\n",
       "      <td>0.0</td>\n",
       "    </tr>\n",
       "    <tr>\n",
       "      <td>1caa70ee07ef8cb0f55f06f6bf43cb7d4853b13fe837a4e059b36d34c7b11036</td>\n",
       "      <td>70720759877097d63afb1e59d5f535413076b92a48e616f64363c680560f4028</td>\n",
       "      <td>0</td>\n",
       "      <td>0</td>\n",
       "      <td>670.00</td>\n",
       "      <td>0</td>\n",
       "      <td>51.0</td>\n",
       "      <td>0</td>\n",
       "      <td>0</td>\n",
       "      <td>1</td>\n",
       "      <td>0</td>\n",
       "      <td>0</td>\n",
       "      <td>...</td>\n",
       "      <td>0</td>\n",
       "      <td>0</td>\n",
       "      <td>1</td>\n",
       "      <td>0</td>\n",
       "      <td>0</td>\n",
       "      <td>0.0</td>\n",
       "      <td>0.0</td>\n",
       "      <td>0.0</td>\n",
       "      <td>1.0</td>\n",
       "      <td>0.0</td>\n",
       "    </tr>\n",
       "    <tr>\n",
       "      <td>634cc57a6f4ba919e81c0f01b7530de1f660b67183f597a1736922575791306f</td>\n",
       "      <td>21af9ba2c667dc7758c1d8fee8cf845c10a2b912077ff3284c49d6b377906fd8</td>\n",
       "      <td>0</td>\n",
       "      <td>0</td>\n",
       "      <td>1863.34</td>\n",
       "      <td>11</td>\n",
       "      <td>25.0</td>\n",
       "      <td>0</td>\n",
       "      <td>0</td>\n",
       "      <td>1</td>\n",
       "      <td>0</td>\n",
       "      <td>0</td>\n",
       "      <td>...</td>\n",
       "      <td>0</td>\n",
       "      <td>0</td>\n",
       "      <td>0</td>\n",
       "      <td>1</td>\n",
       "      <td>0</td>\n",
       "      <td>0.0</td>\n",
       "      <td>0.0</td>\n",
       "      <td>0.0</td>\n",
       "      <td>0.0</td>\n",
       "      <td>0.0</td>\n",
       "    </tr>\n",
       "    <tr>\n",
       "      <td>6e58638e7cd1bb63394922816cdbc8a1e50cc6ae6206cb9a05f75666df1571c7</td>\n",
       "      <td>ce3f168dac3aa97e04b770006e29b2bc6a5a4dca34a19811ddf65f7c18536cfd</td>\n",
       "      <td>0</td>\n",
       "      <td>0</td>\n",
       "      <td>1289.04</td>\n",
       "      <td>0</td>\n",
       "      <td>35.0</td>\n",
       "      <td>0</td>\n",
       "      <td>0</td>\n",
       "      <td>1</td>\n",
       "      <td>0</td>\n",
       "      <td>0</td>\n",
       "      <td>...</td>\n",
       "      <td>0</td>\n",
       "      <td>0</td>\n",
       "      <td>1</td>\n",
       "      <td>0</td>\n",
       "      <td>0</td>\n",
       "      <td>0.0</td>\n",
       "      <td>0.0</td>\n",
       "      <td>0.0</td>\n",
       "      <td>0.0</td>\n",
       "      <td>0.0</td>\n",
       "    </tr>\n",
       "    <tr>\n",
       "      <td>e831f0776cd9fd656387eb9de5a72009f1f747ce8d90e3f4e1d9f142b33b8e99</td>\n",
       "      <td>be7f92e24d1ad7c35f4b44afde3077178512c4a846da5f4194d5501a91bf3c11</td>\n",
       "      <td>0</td>\n",
       "      <td>0</td>\n",
       "      <td>1351.61</td>\n",
       "      <td>0</td>\n",
       "      <td>34.0</td>\n",
       "      <td>1</td>\n",
       "      <td>0</td>\n",
       "      <td>1</td>\n",
       "      <td>0</td>\n",
       "      <td>0</td>\n",
       "      <td>...</td>\n",
       "      <td>0</td>\n",
       "      <td>0</td>\n",
       "      <td>1</td>\n",
       "      <td>0</td>\n",
       "      <td>0</td>\n",
       "      <td>0.0</td>\n",
       "      <td>0.0</td>\n",
       "      <td>0.0</td>\n",
       "      <td>0.0</td>\n",
       "      <td>0.0</td>\n",
       "    </tr>\n",
       "  </tbody>\n",
       "</table>\n",
       "<p>5 rows × 33 columns</p>\n",
       "</div>"
      ],
      "text/plain": [
       "                                                                                                       წინა პოლისის ნომერი (hash)  \\\n",
       "პოლისის ნომერი (hash)                              დამზღ პირადი ნომერი (hash)                                                       \n",
       "a33fff3fbe65ff7923448554f5f32f05b52ddf1f4cf88d0... 5c05f5ab96ae3736b288a7121c222b86a82c221e782b4dd...                           0   \n",
       "1caa70ee07ef8cb0f55f06f6bf43cb7d4853b13fe837a4e... 70720759877097d63afb1e59d5f535413076b92a48e616f...                           0   \n",
       "634cc57a6f4ba919e81c0f01b7530de1f660b67183f597a... 21af9ba2c667dc7758c1d8fee8cf845c10a2b912077ff32...                           0   \n",
       "6e58638e7cd1bb63394922816cdbc8a1e50cc6ae6206cb9... ce3f168dac3aa97e04b770006e29b2bc6a5a4dca34a1981...                           0   \n",
       "e831f0776cd9fd656387eb9de5a72009f1f747ce8d90e3f... be7f92e24d1ad7c35f4b44afde3077178512c4a846da5f4...                           0   \n",
       "\n",
       "                                                                                                       Client Category (hash)  \\\n",
       "პოლისის ნომერი (hash)                              დამზღ პირადი ნომერი (hash)                                                   \n",
       "a33fff3fbe65ff7923448554f5f32f05b52ddf1f4cf88d0... 5c05f5ab96ae3736b288a7121c222b86a82c221e782b4dd...                       0   \n",
       "1caa70ee07ef8cb0f55f06f6bf43cb7d4853b13fe837a4e... 70720759877097d63afb1e59d5f535413076b92a48e616f...                       0   \n",
       "634cc57a6f4ba919e81c0f01b7530de1f660b67183f597a... 21af9ba2c667dc7758c1d8fee8cf845c10a2b912077ff32...                       0   \n",
       "6e58638e7cd1bb63394922816cdbc8a1e50cc6ae6206cb9... ce3f168dac3aa97e04b770006e29b2bc6a5a4dca34a1981...                       0   \n",
       "e831f0776cd9fd656387eb9de5a72009f1f747ce8d90e3f... be7f92e24d1ad7c35f4b44afde3077178512c4a846da5f4...                       0   \n",
       "\n",
       "                                                                                                        პრემია  \\\n",
       "პოლისის ნომერი (hash)                              დამზღ პირადი ნომერი (hash)                                    \n",
       "a33fff3fbe65ff7923448554f5f32f05b52ddf1f4cf88d0... 5c05f5ab96ae3736b288a7121c222b86a82c221e782b4dd...  1682.57   \n",
       "1caa70ee07ef8cb0f55f06f6bf43cb7d4853b13fe837a4e... 70720759877097d63afb1e59d5f535413076b92a48e616f...   670.00   \n",
       "634cc57a6f4ba919e81c0f01b7530de1f660b67183f597a... 21af9ba2c667dc7758c1d8fee8cf845c10a2b912077ff32...  1863.34   \n",
       "6e58638e7cd1bb63394922816cdbc8a1e50cc6ae6206cb9... ce3f168dac3aa97e04b770006e29b2bc6a5a4dca34a1981...  1289.04   \n",
       "e831f0776cd9fd656387eb9de5a72009f1f747ce8d90e3f... be7f92e24d1ad7c35f4b44afde3077178512c4a846da5f4...  1351.61   \n",
       "\n",
       "                                                                                                       ვადაგადაცილებული დღე  \\\n",
       "პოლისის ნომერი (hash)                              დამზღ პირადი ნომერი (hash)                                                 \n",
       "a33fff3fbe65ff7923448554f5f32f05b52ddf1f4cf88d0... 5c05f5ab96ae3736b288a7121c222b86a82c221e782b4dd...                     0   \n",
       "1caa70ee07ef8cb0f55f06f6bf43cb7d4853b13fe837a4e... 70720759877097d63afb1e59d5f535413076b92a48e616f...                     0   \n",
       "634cc57a6f4ba919e81c0f01b7530de1f660b67183f597a... 21af9ba2c667dc7758c1d8fee8cf845c10a2b912077ff32...                    11   \n",
       "6e58638e7cd1bb63394922816cdbc8a1e50cc6ae6206cb9... ce3f168dac3aa97e04b770006e29b2bc6a5a4dca34a1981...                     0   \n",
       "e831f0776cd9fd656387eb9de5a72009f1f747ce8d90e3f... be7f92e24d1ad7c35f4b44afde3077178512c4a846da5f4...                     0   \n",
       "\n",
       "                                                                                                       დამზღვევის ასაკი  \\\n",
       "პოლისის ნომერი (hash)                              დამზღ პირადი ნომერი (hash)                                             \n",
       "a33fff3fbe65ff7923448554f5f32f05b52ddf1f4cf88d0... 5c05f5ab96ae3736b288a7121c222b86a82c221e782b4dd...              39.0   \n",
       "1caa70ee07ef8cb0f55f06f6bf43cb7d4853b13fe837a4e... 70720759877097d63afb1e59d5f535413076b92a48e616f...              51.0   \n",
       "634cc57a6f4ba919e81c0f01b7530de1f660b67183f597a... 21af9ba2c667dc7758c1d8fee8cf845c10a2b912077ff32...              25.0   \n",
       "6e58638e7cd1bb63394922816cdbc8a1e50cc6ae6206cb9... ce3f168dac3aa97e04b770006e29b2bc6a5a4dca34a1981...              35.0   \n",
       "e831f0776cd9fd656387eb9de5a72009f1f747ce8d90e3f... be7f92e24d1ad7c35f4b44afde3077178512c4a846da5f4...              34.0   \n",
       "\n",
       "                                                                                                       დამზღვევი ქალია  \\\n",
       "პოლისის ნომერი (hash)                              დამზღ პირადი ნომერი (hash)                                            \n",
       "a33fff3fbe65ff7923448554f5f32f05b52ddf1f4cf88d0... 5c05f5ab96ae3736b288a7121c222b86a82c221e782b4dd...                1   \n",
       "1caa70ee07ef8cb0f55f06f6bf43cb7d4853b13fe837a4e... 70720759877097d63afb1e59d5f535413076b92a48e616f...                0   \n",
       "634cc57a6f4ba919e81c0f01b7530de1f660b67183f597a... 21af9ba2c667dc7758c1d8fee8cf845c10a2b912077ff32...                0   \n",
       "6e58638e7cd1bb63394922816cdbc8a1e50cc6ae6206cb9... ce3f168dac3aa97e04b770006e29b2bc6a5a4dca34a1981...                0   \n",
       "e831f0776cd9fd656387eb9de5a72009f1f747ce8d90e3f... be7f92e24d1ad7c35f4b44afde3077178512c4a846da5f4...                1   \n",
       "\n",
       "                                                                                                       Motor TPL Package  \\\n",
       "პოლისის ნომერი (hash)                              დამზღ პირადი ნომერი (hash)                                              \n",
       "a33fff3fbe65ff7923448554f5f32f05b52ddf1f4cf88d0... 5c05f5ab96ae3736b288a7121c222b86a82c221e782b4dd...                  0   \n",
       "1caa70ee07ef8cb0f55f06f6bf43cb7d4853b13fe837a4e... 70720759877097d63afb1e59d5f535413076b92a48e616f...                  0   \n",
       "634cc57a6f4ba919e81c0f01b7530de1f660b67183f597a... 21af9ba2c667dc7758c1d8fee8cf845c10a2b912077ff32...                  0   \n",
       "6e58638e7cd1bb63394922816cdbc8a1e50cc6ae6206cb9... ce3f168dac3aa97e04b770006e29b2bc6a5a4dca34a1981...                  0   \n",
       "e831f0776cd9fd656387eb9de5a72009f1f747ce8d90e3f... be7f92e24d1ad7c35f4b44afde3077178512c4a846da5f4...                  0   \n",
       "\n",
       "                                                                                                       MotorPackage  \\\n",
       "პოლისის ნომერი (hash)                              დამზღ პირადი ნომერი (hash)                                         \n",
       "a33fff3fbe65ff7923448554f5f32f05b52ddf1f4cf88d0... 5c05f5ab96ae3736b288a7121c222b86a82c221e782b4dd...             1   \n",
       "1caa70ee07ef8cb0f55f06f6bf43cb7d4853b13fe837a4e... 70720759877097d63afb1e59d5f535413076b92a48e616f...             1   \n",
       "634cc57a6f4ba919e81c0f01b7530de1f660b67183f597a... 21af9ba2c667dc7758c1d8fee8cf845c10a2b912077ff32...             1   \n",
       "6e58638e7cd1bb63394922816cdbc8a1e50cc6ae6206cb9... ce3f168dac3aa97e04b770006e29b2bc6a5a4dca34a1981...             1   \n",
       "e831f0776cd9fd656387eb9de5a72009f1f747ce8d90e3f... be7f92e24d1ad7c35f4b44afde3077178512c4a846da5f4...             1   \n",
       "\n",
       "                                                                                                       PropertyPackage  \\\n",
       "პოლისის ნომერი (hash)                              დამზღ პირადი ნომერი (hash)                                            \n",
       "a33fff3fbe65ff7923448554f5f32f05b52ddf1f4cf88d0... 5c05f5ab96ae3736b288a7121c222b86a82c221e782b4dd...                0   \n",
       "1caa70ee07ef8cb0f55f06f6bf43cb7d4853b13fe837a4e... 70720759877097d63afb1e59d5f535413076b92a48e616f...                0   \n",
       "634cc57a6f4ba919e81c0f01b7530de1f660b67183f597a... 21af9ba2c667dc7758c1d8fee8cf845c10a2b912077ff32...                0   \n",
       "6e58638e7cd1bb63394922816cdbc8a1e50cc6ae6206cb9... ce3f168dac3aa97e04b770006e29b2bc6a5a4dca34a1981...                0   \n",
       "e831f0776cd9fd656387eb9de5a72009f1f747ce8d90e3f... be7f92e24d1ad7c35f4b44afde3077178512c4a846da5f4...                0   \n",
       "\n",
       "                                                                                                       TravelPackage  \\\n",
       "პოლისის ნომერი (hash)                              დამზღ პირადი ნომერი (hash)                                          \n",
       "a33fff3fbe65ff7923448554f5f32f05b52ddf1f4cf88d0... 5c05f5ab96ae3736b288a7121c222b86a82c221e782b4dd...              0   \n",
       "1caa70ee07ef8cb0f55f06f6bf43cb7d4853b13fe837a4e... 70720759877097d63afb1e59d5f535413076b92a48e616f...              0   \n",
       "634cc57a6f4ba919e81c0f01b7530de1f660b67183f597a... 21af9ba2c667dc7758c1d8fee8cf845c10a2b912077ff32...              0   \n",
       "6e58638e7cd1bb63394922816cdbc8a1e50cc6ae6206cb9... ce3f168dac3aa97e04b770006e29b2bc6a5a4dca34a1981...              0   \n",
       "e831f0776cd9fd656387eb9de5a72009f1f747ce8d90e3f... be7f92e24d1ad7c35f4b44afde3077178512c4a846da5f4...              0   \n",
       "\n",
       "                                                                                                       ...  \\\n",
       "პოლისის ნომერი (hash)                              დამზღ პირადი ნომერი (hash)                          ...   \n",
       "a33fff3fbe65ff7923448554f5f32f05b52ddf1f4cf88d0... 5c05f5ab96ae3736b288a7121c222b86a82c221e782b4dd...  ...   \n",
       "1caa70ee07ef8cb0f55f06f6bf43cb7d4853b13fe837a4e... 70720759877097d63afb1e59d5f535413076b92a48e616f...  ...   \n",
       "634cc57a6f4ba919e81c0f01b7530de1f660b67183f597a... 21af9ba2c667dc7758c1d8fee8cf845c10a2b912077ff32...  ...   \n",
       "6e58638e7cd1bb63394922816cdbc8a1e50cc6ae6206cb9... ce3f168dac3aa97e04b770006e29b2bc6a5a4dca34a1981...  ...   \n",
       "e831f0776cd9fd656387eb9de5a72009f1f747ce8d90e3f... be7f92e24d1ad7c35f4b44afde3077178512c4a846da5f4...  ...   \n",
       "\n",
       "                                                                                                       ნაკლებად_დაკმაყოფილებული  \\\n",
       "პოლისის ნომერი (hash)                              დამზღ პირადი ნომერი (hash)                                                     \n",
       "a33fff3fbe65ff7923448554f5f32f05b52ddf1f4cf88d0... 5c05f5ab96ae3736b288a7121c222b86a82c221e782b4dd...                         0   \n",
       "1caa70ee07ef8cb0f55f06f6bf43cb7d4853b13fe837a4e... 70720759877097d63afb1e59d5f535413076b92a48e616f...                         0   \n",
       "634cc57a6f4ba919e81c0f01b7530de1f660b67183f597a... 21af9ba2c667dc7758c1d8fee8cf845c10a2b912077ff32...                         0   \n",
       "6e58638e7cd1bb63394922816cdbc8a1e50cc6ae6206cb9... ce3f168dac3aa97e04b770006e29b2bc6a5a4dca34a1981...                         0   \n",
       "e831f0776cd9fd656387eb9de5a72009f1f747ce8d90e3f... be7f92e24d1ad7c35f4b44afde3077178512c4a846da5f4...                         0   \n",
       "\n",
       "                                                                                                       ზედმეტად_დაკმაყოფილებული  \\\n",
       "პოლისის ნომერი (hash)                              დამზღ პირადი ნომერი (hash)                                                     \n",
       "a33fff3fbe65ff7923448554f5f32f05b52ddf1f4cf88d0... 5c05f5ab96ae3736b288a7121c222b86a82c221e782b4dd...                         0   \n",
       "1caa70ee07ef8cb0f55f06f6bf43cb7d4853b13fe837a4e... 70720759877097d63afb1e59d5f535413076b92a48e616f...                         0   \n",
       "634cc57a6f4ba919e81c0f01b7530de1f660b67183f597a... 21af9ba2c667dc7758c1d8fee8cf845c10a2b912077ff32...                         0   \n",
       "6e58638e7cd1bb63394922816cdbc8a1e50cc6ae6206cb9... ce3f168dac3aa97e04b770006e29b2bc6a5a4dca34a1981...                         0   \n",
       "e831f0776cd9fd656387eb9de5a72009f1f747ce8d90e3f... be7f92e24d1ad7c35f4b44afde3077178512c4a846da5f4...                         0   \n",
       "\n",
       "                                                                                                       no_status  \\\n",
       "პოლისის ნომერი (hash)                              დამზღ პირადი ნომერი (hash)                                      \n",
       "a33fff3fbe65ff7923448554f5f32f05b52ddf1f4cf88d0... 5c05f5ab96ae3736b288a7121c222b86a82c221e782b4dd...          0   \n",
       "1caa70ee07ef8cb0f55f06f6bf43cb7d4853b13fe837a4e... 70720759877097d63afb1e59d5f535413076b92a48e616f...          1   \n",
       "634cc57a6f4ba919e81c0f01b7530de1f660b67183f597a... 21af9ba2c667dc7758c1d8fee8cf845c10a2b912077ff32...          0   \n",
       "6e58638e7cd1bb63394922816cdbc8a1e50cc6ae6206cb9... ce3f168dac3aa97e04b770006e29b2bc6a5a4dca34a1981...          1   \n",
       "e831f0776cd9fd656387eb9de5a72009f1f747ce8d90e3f... be7f92e24d1ad7c35f4b44afde3077178512c4a846da5f4...          1   \n",
       "\n",
       "                                                                                                       დასრულებულია  \\\n",
       "პოლისის ნომერი (hash)                              დამზღ პირადი ნომერი (hash)                                         \n",
       "a33fff3fbe65ff7923448554f5f32f05b52ddf1f4cf88d0... 5c05f5ab96ae3736b288a7121c222b86a82c221e782b4dd...             1   \n",
       "1caa70ee07ef8cb0f55f06f6bf43cb7d4853b13fe837a4e... 70720759877097d63afb1e59d5f535413076b92a48e616f...             0   \n",
       "634cc57a6f4ba919e81c0f01b7530de1f660b67183f597a... 21af9ba2c667dc7758c1d8fee8cf845c10a2b912077ff32...             1   \n",
       "6e58638e7cd1bb63394922816cdbc8a1e50cc6ae6206cb9... ce3f168dac3aa97e04b770006e29b2bc6a5a4dca34a1981...             0   \n",
       "e831f0776cd9fd656387eb9de5a72009f1f747ce8d90e3f... be7f92e24d1ad7c35f4b44afde3077178512c4a846da5f4...             0   \n",
       "\n",
       "                                                                                                       პროცესშია  \\\n",
       "პოლისის ნომერი (hash)                              დამზღ პირადი ნომერი (hash)                                      \n",
       "a33fff3fbe65ff7923448554f5f32f05b52ddf1f4cf88d0... 5c05f5ab96ae3736b288a7121c222b86a82c221e782b4dd...          0   \n",
       "1caa70ee07ef8cb0f55f06f6bf43cb7d4853b13fe837a4e... 70720759877097d63afb1e59d5f535413076b92a48e616f...          0   \n",
       "634cc57a6f4ba919e81c0f01b7530de1f660b67183f597a... 21af9ba2c667dc7758c1d8fee8cf845c10a2b912077ff32...          0   \n",
       "6e58638e7cd1bb63394922816cdbc8a1e50cc6ae6206cb9... ce3f168dac3aa97e04b770006e29b2bc6a5a4dca34a1981...          0   \n",
       "e831f0776cd9fd656387eb9de5a72009f1f747ce8d90e3f... be7f92e24d1ad7c35f4b44afde3077178512c4a846da5f4...          0   \n",
       "\n",
       "                                                                                                       გარეცხვის რაოდენობა  \\\n",
       "პოლისის ნომერი (hash)                              დამზღ პირადი ნომერი (hash)                                                \n",
       "a33fff3fbe65ff7923448554f5f32f05b52ddf1f4cf88d0... 5c05f5ab96ae3736b288a7121c222b86a82c221e782b4dd...                  0.0   \n",
       "1caa70ee07ef8cb0f55f06f6bf43cb7d4853b13fe837a4e... 70720759877097d63afb1e59d5f535413076b92a48e616f...                  0.0   \n",
       "634cc57a6f4ba919e81c0f01b7530de1f660b67183f597a... 21af9ba2c667dc7758c1d8fee8cf845c10a2b912077ff32...                  0.0   \n",
       "6e58638e7cd1bb63394922816cdbc8a1e50cc6ae6206cb9... ce3f168dac3aa97e04b770006e29b2bc6a5a4dca34a1981...                  0.0   \n",
       "e831f0776cd9fd656387eb9de5a72009f1f747ce8d90e3f... be7f92e24d1ad7c35f4b44afde3077178512c4a846da5f4...                  0.0   \n",
       "\n",
       "                                                                                                       in_abandon  \\\n",
       "პოლისის ნომერი (hash)                              დამზღ პირადი ნომერი (hash)                                       \n",
       "a33fff3fbe65ff7923448554f5f32f05b52ddf1f4cf88d0... 5c05f5ab96ae3736b288a7121c222b86a82c221e782b4dd...         0.0   \n",
       "1caa70ee07ef8cb0f55f06f6bf43cb7d4853b13fe837a4e... 70720759877097d63afb1e59d5f535413076b92a48e616f...         0.0   \n",
       "634cc57a6f4ba919e81c0f01b7530de1f660b67183f597a... 21af9ba2c667dc7758c1d8fee8cf845c10a2b912077ff32...         0.0   \n",
       "6e58638e7cd1bb63394922816cdbc8a1e50cc6ae6206cb9... ce3f168dac3aa97e04b770006e29b2bc6a5a4dca34a1981...         0.0   \n",
       "e831f0776cd9fd656387eb9de5a72009f1f747ce8d90e3f... be7f92e24d1ad7c35f4b44afde3077178512c4a846da5f4...         0.0   \n",
       "\n",
       "                                                                                                       out_abandon  \\\n",
       "პოლისის ნომერი (hash)                              დამზღ პირადი ნომერი (hash)                                        \n",
       "a33fff3fbe65ff7923448554f5f32f05b52ddf1f4cf88d0... 5c05f5ab96ae3736b288a7121c222b86a82c221e782b4dd...          0.0   \n",
       "1caa70ee07ef8cb0f55f06f6bf43cb7d4853b13fe837a4e... 70720759877097d63afb1e59d5f535413076b92a48e616f...          0.0   \n",
       "634cc57a6f4ba919e81c0f01b7530de1f660b67183f597a... 21af9ba2c667dc7758c1d8fee8cf845c10a2b912077ff32...          0.0   \n",
       "6e58638e7cd1bb63394922816cdbc8a1e50cc6ae6206cb9... ce3f168dac3aa97e04b770006e29b2bc6a5a4dca34a1981...          0.0   \n",
       "e831f0776cd9fd656387eb9de5a72009f1f747ce8d90e3f... be7f92e24d1ad7c35f4b44afde3077178512c4a846da5f4...          0.0   \n",
       "\n",
       "                                                                                                       in_answered  \\\n",
       "პოლისის ნომერი (hash)                              დამზღ პირადი ნომერი (hash)                                        \n",
       "a33fff3fbe65ff7923448554f5f32f05b52ddf1f4cf88d0... 5c05f5ab96ae3736b288a7121c222b86a82c221e782b4dd...          1.0   \n",
       "1caa70ee07ef8cb0f55f06f6bf43cb7d4853b13fe837a4e... 70720759877097d63afb1e59d5f535413076b92a48e616f...          1.0   \n",
       "634cc57a6f4ba919e81c0f01b7530de1f660b67183f597a... 21af9ba2c667dc7758c1d8fee8cf845c10a2b912077ff32...          0.0   \n",
       "6e58638e7cd1bb63394922816cdbc8a1e50cc6ae6206cb9... ce3f168dac3aa97e04b770006e29b2bc6a5a4dca34a1981...          0.0   \n",
       "e831f0776cd9fd656387eb9de5a72009f1f747ce8d90e3f... be7f92e24d1ad7c35f4b44afde3077178512c4a846da5f4...          0.0   \n",
       "\n",
       "                                                                                                       out_answered  \n",
       "პოლისის ნომერი (hash)                              დამზღ პირადი ნომერი (hash)                                        \n",
       "a33fff3fbe65ff7923448554f5f32f05b52ddf1f4cf88d0... 5c05f5ab96ae3736b288a7121c222b86a82c221e782b4dd...           0.0  \n",
       "1caa70ee07ef8cb0f55f06f6bf43cb7d4853b13fe837a4e... 70720759877097d63afb1e59d5f535413076b92a48e616f...           0.0  \n",
       "634cc57a6f4ba919e81c0f01b7530de1f660b67183f597a... 21af9ba2c667dc7758c1d8fee8cf845c10a2b912077ff32...           0.0  \n",
       "6e58638e7cd1bb63394922816cdbc8a1e50cc6ae6206cb9... ce3f168dac3aa97e04b770006e29b2bc6a5a4dca34a1981...           0.0  \n",
       "e831f0776cd9fd656387eb9de5a72009f1f747ce8d90e3f... be7f92e24d1ad7c35f4b44afde3077178512c4a846da5f4...           0.0  \n",
       "\n",
       "[5 rows x 33 columns]"
      ]
     },
     "execution_count": 206,
     "metadata": {},
     "output_type": "execute_result"
    }
   ],
   "source": [
    "X.head()"
   ]
  },
  {
   "cell_type": "code",
   "execution_count": 207,
   "metadata": {},
   "outputs": [],
   "source": [
    "y = new_df[\"ბოლომდე არ გადაიხადა\"]"
   ]
  },
  {
   "cell_type": "code",
   "execution_count": 208,
   "metadata": {},
   "outputs": [],
   "source": [
    "X_train, X_test, y_train, y_test = train_test_split(X, y, test_size=0.2, random_state=0)"
   ]
  },
  {
   "cell_type": "code",
   "execution_count": 209,
   "metadata": {},
   "outputs": [
    {
     "data": {
      "text/plain": [
       "30000.0"
      ]
     },
     "execution_count": 209,
     "metadata": {},
     "output_type": "execute_result"
    }
   ],
   "source": [
    "X_test.max().max()"
   ]
  },
  {
   "cell_type": "code",
   "execution_count": 210,
   "metadata": {},
   "outputs": [
    {
     "data": {
      "text/plain": [
       "0.0"
      ]
     },
     "execution_count": 210,
     "metadata": {},
     "output_type": "execute_result"
    }
   ],
   "source": [
    "X_test.min().min()"
   ]
  },
  {
   "cell_type": "code",
   "execution_count": 211,
   "metadata": {},
   "outputs": [
    {
     "name": "stderr",
     "output_type": "stream",
     "text": [
      "C:\\Users\\TMalishava\\AppData\\Local\\Continuum\\anaconda3\\envs\\testenv\\lib\\site-packages\\sklearn\\preprocessing\\data.py:323: DataConversionWarning: Data with input dtype int64, float64 were all converted to float64 by MinMaxScaler.\n",
      "  return self.partial_fit(X, y)\n"
     ]
    }
   ],
   "source": [
    "scaler = MinMaxScaler()\n",
    "X_train = scaler.fit_transform(X_train)\n",
    "X_test = scaler.transform(X_test)"
   ]
  },
  {
   "cell_type": "code",
   "execution_count": 212,
   "metadata": {},
   "outputs": [
    {
     "data": {
      "text/plain": [
       "1.1666666666666665"
      ]
     },
     "execution_count": 212,
     "metadata": {},
     "output_type": "execute_result"
    }
   ],
   "source": [
    "X_test.max()"
   ]
  },
  {
   "cell_type": "code",
   "execution_count": 213,
   "metadata": {},
   "outputs": [
    {
     "data": {
      "text/plain": [
       "0.0"
      ]
     },
     "execution_count": 213,
     "metadata": {},
     "output_type": "execute_result"
    }
   ],
   "source": [
    "X_test.min()"
   ]
  },
  {
   "cell_type": "markdown",
   "metadata": {},
   "source": [
    "### Logistic Regression (unbalanced)"
   ]
  },
  {
   "cell_type": "code",
   "execution_count": 214,
   "metadata": {},
   "outputs": [
    {
     "name": "stdout",
     "output_type": "stream",
     "text": [
      "Accuracy of Logistic regression classifier on training set: 0.793359375\n",
      "Accuracy of Logistic regression classifier on test set: 0.79921875\n"
     ]
    }
   ],
   "source": [
    "logreg = LogisticRegression(solver='liblinear')\n",
    "logreg.fit(X_train, y_train)\n",
    "print(f'Accuracy of Logistic regression classifier on training set: {logreg.score(X_train, y_train)}')\n",
    "print(f'Accuracy of Logistic regression classifier on test set: {logreg.score(X_test, y_test)}')"
   ]
  },
  {
   "cell_type": "code",
   "execution_count": 215,
   "metadata": {},
   "outputs": [],
   "source": [
    "y_pred = logreg.predict(X_test)"
   ]
  },
  {
   "cell_type": "markdown",
   "metadata": {},
   "source": [
    "#### From the confusion matrix we can see how much mistakes has the model made on churned customers"
   ]
  },
  {
   "cell_type": "code",
   "execution_count": 216,
   "metadata": {},
   "outputs": [
    {
     "data": {
      "text/html": [
       "<div>\n",
       "<style scoped>\n",
       "    .dataframe tbody tr th:only-of-type {\n",
       "        vertical-align: middle;\n",
       "    }\n",
       "\n",
       "    .dataframe tbody tr th {\n",
       "        vertical-align: top;\n",
       "    }\n",
       "\n",
       "    .dataframe thead th {\n",
       "        text-align: right;\n",
       "    }\n",
       "</style>\n",
       "<table border=\"1\" class=\"dataframe\">\n",
       "  <thead>\n",
       "    <tr style=\"text-align: right;\">\n",
       "      <th>col_0</th>\n",
       "      <th>0</th>\n",
       "      <th>1</th>\n",
       "    </tr>\n",
       "    <tr>\n",
       "      <th>ბოლომდე არ გადაიხადა</th>\n",
       "      <th></th>\n",
       "      <th></th>\n",
       "    </tr>\n",
       "  </thead>\n",
       "  <tbody>\n",
       "    <tr>\n",
       "      <td>0</td>\n",
       "      <td>998</td>\n",
       "      <td>8</td>\n",
       "    </tr>\n",
       "    <tr>\n",
       "      <td>1</td>\n",
       "      <td>249</td>\n",
       "      <td>25</td>\n",
       "    </tr>\n",
       "  </tbody>\n",
       "</table>\n",
       "</div>"
      ],
      "text/plain": [
       "col_0                   0   1\n",
       "ბოლომდე არ გადაიხადა         \n",
       "0                     998   8\n",
       "1                     249  25"
      ]
     },
     "execution_count": 216,
     "metadata": {},
     "output_type": "execute_result"
    }
   ],
   "source": [
    "pd.crosstab(y_test, y_pred)"
   ]
  },
  {
   "cell_type": "markdown",
   "metadata": {},
   "source": [
    "#### This is due to unbalanced dataset"
   ]
  },
  {
   "cell_type": "markdown",
   "metadata": {},
   "source": [
    "## Let's fix it and even out the data"
   ]
  },
  {
   "cell_type": "markdown",
   "metadata": {},
   "source": [
    "## Over sampling method v.1 (SMOTE)"
   ]
  },
  {
   "cell_type": "code",
   "execution_count": 270,
   "metadata": {},
   "outputs": [],
   "source": [
    "X_train, X_test, y_train, y_test = train_test_split(X, y, test_size=0.2, random_state=0)"
   ]
  },
  {
   "cell_type": "code",
   "execution_count": 271,
   "metadata": {},
   "outputs": [
    {
     "name": "stderr",
     "output_type": "stream",
     "text": [
      "C:\\Users\\TMalishava\\AppData\\Local\\Continuum\\anaconda3\\envs\\testenv\\lib\\site-packages\\sklearn\\preprocessing\\data.py:323: DataConversionWarning: Data with input dtype int64, float64 were all converted to float64 by MinMaxScaler.\n",
      "  return self.partial_fit(X, y)\n"
     ]
    }
   ],
   "source": [
    "scaler = MinMaxScaler()\n",
    "X_train = scaler.fit_transform(X_train)\n",
    "X_test = scaler.transform(X_test)"
   ]
  },
  {
   "cell_type": "code",
   "execution_count": 272,
   "metadata": {
    "scrolled": true
   },
   "outputs": [
    {
     "data": {
      "text/plain": [
       "((5120, 33), (5120,))"
      ]
     },
     "execution_count": 272,
     "metadata": {},
     "output_type": "execute_result"
    }
   ],
   "source": [
    "X_train.shape, y_train.shape"
   ]
  },
  {
   "cell_type": "code",
   "execution_count": 273,
   "metadata": {},
   "outputs": [],
   "source": [
    "sm = SMOTE(random_state=27, ratio=1.0)\n",
    "X_train_sm, y_train_sm = sm.fit_sample(X_train, y_train)"
   ]
  },
  {
   "cell_type": "code",
   "execution_count": 274,
   "metadata": {},
   "outputs": [
    {
     "data": {
      "text/plain": [
       "((8038, 33), (8038,))"
      ]
     },
     "execution_count": 274,
     "metadata": {},
     "output_type": "execute_result"
    }
   ],
   "source": [
    "X_train_sm.shape, y_train_sm.shape"
   ]
  },
  {
   "cell_type": "markdown",
   "metadata": {},
   "source": [
    "### Random Forest Classifier"
   ]
  },
  {
   "cell_type": "code",
   "execution_count": 275,
   "metadata": {},
   "outputs": [
    {
     "data": {
      "text/plain": [
       "0.02034557263056437"
      ]
     },
     "execution_count": 275,
     "metadata": {},
     "output_type": "execute_result"
    }
   ],
   "source": [
    "start_time = time.time()\n",
    "rfc_smote = RandomForestClassifier(n_estimators = 100).fit(X_train_sm, y_train_sm)\n",
    "(time.time() - start_time)/60"
   ]
  },
  {
   "cell_type": "code",
   "execution_count": 276,
   "metadata": {},
   "outputs": [],
   "source": [
    "rfc_smote_pred = rfc_smote.predict(X_test)"
   ]
  },
  {
   "cell_type": "code",
   "execution_count": 277,
   "metadata": {},
   "outputs": [
    {
     "data": {
      "text/html": [
       "<div>\n",
       "<style scoped>\n",
       "    .dataframe tbody tr th:only-of-type {\n",
       "        vertical-align: middle;\n",
       "    }\n",
       "\n",
       "    .dataframe tbody tr th {\n",
       "        vertical-align: top;\n",
       "    }\n",
       "\n",
       "    .dataframe thead th {\n",
       "        text-align: right;\n",
       "    }\n",
       "</style>\n",
       "<table border=\"1\" class=\"dataframe\">\n",
       "  <thead>\n",
       "    <tr style=\"text-align: right;\">\n",
       "      <th>col_0</th>\n",
       "      <th>0</th>\n",
       "      <th>1</th>\n",
       "    </tr>\n",
       "    <tr>\n",
       "      <th>ბოლომდე არ გადაიხადა</th>\n",
       "      <th></th>\n",
       "      <th></th>\n",
       "    </tr>\n",
       "  </thead>\n",
       "  <tbody>\n",
       "    <tr>\n",
       "      <td>0</td>\n",
       "      <td>862</td>\n",
       "      <td>144</td>\n",
       "    </tr>\n",
       "    <tr>\n",
       "      <td>1</td>\n",
       "      <td>129</td>\n",
       "      <td>145</td>\n",
       "    </tr>\n",
       "  </tbody>\n",
       "</table>\n",
       "</div>"
      ],
      "text/plain": [
       "col_0                   0    1\n",
       "ბოლომდე არ გადაიხადა          \n",
       "0                     862  144\n",
       "1                     129  145"
      ]
     },
     "execution_count": 277,
     "metadata": {},
     "output_type": "execute_result"
    }
   ],
   "source": [
    "rfc_conf_matrix = pd.crosstab(y_test, rfc_smote_pred)\n",
    "rfc_conf_matrix"
   ]
  },
  {
   "cell_type": "code",
   "execution_count": 278,
   "metadata": {
    "scrolled": true
   },
   "outputs": [
    {
     "data": {
      "text/plain": [
       "0.78671875"
      ]
     },
     "execution_count": 278,
     "metadata": {},
     "output_type": "execute_result"
    }
   ],
   "source": [
    "accuracy_score(y_test, rfc_smote_pred)"
   ]
  },
  {
   "cell_type": "code",
   "execution_count": 279,
   "metadata": {},
   "outputs": [
    {
     "name": "stdout",
     "output_type": "stream",
     "text": [
      "Non-churn guessed correctly: 0.856858846918489\n",
      "Churn guessed correctly: 0.5291970802919708\n"
     ]
    }
   ],
   "source": [
    "print('Non-churn guessed correctly:', rfc_conf_matrix[0][0]/(rfc_conf_matrix[0][0] + rfc_conf_matrix[1][0]))\n",
    "\n",
    "print('Churn guessed correctly:', rfc_conf_matrix[1][1]/(rfc_conf_matrix[0][1] + rfc_conf_matrix[1][1]))"
   ]
  },
  {
   "cell_type": "markdown",
   "metadata": {},
   "source": [
    "### Gradient Boosting"
   ]
  },
  {
   "cell_type": "code",
   "execution_count": 326,
   "metadata": {},
   "outputs": [],
   "source": [
    "from xgboost import XGBClassifier"
   ]
  },
  {
   "cell_type": "code",
   "execution_count": 327,
   "metadata": {},
   "outputs": [],
   "source": [
    "xgb_smote = XGBClassifier().fit(X_train_down, y_train_down)"
   ]
  },
  {
   "cell_type": "code",
   "execution_count": 328,
   "metadata": {},
   "outputs": [],
   "source": [
    "xgb_smote_pred = xgb_smote.predict(X_test)"
   ]
  },
  {
   "cell_type": "code",
   "execution_count": 329,
   "metadata": {},
   "outputs": [
    {
     "data": {
      "text/html": [
       "<div>\n",
       "<style scoped>\n",
       "    .dataframe tbody tr th:only-of-type {\n",
       "        vertical-align: middle;\n",
       "    }\n",
       "\n",
       "    .dataframe tbody tr th {\n",
       "        vertical-align: top;\n",
       "    }\n",
       "\n",
       "    .dataframe thead th {\n",
       "        text-align: right;\n",
       "    }\n",
       "</style>\n",
       "<table border=\"1\" class=\"dataframe\">\n",
       "  <thead>\n",
       "    <tr style=\"text-align: right;\">\n",
       "      <th>col_0</th>\n",
       "      <th>0</th>\n",
       "      <th>1</th>\n",
       "    </tr>\n",
       "    <tr>\n",
       "      <th>ბოლომდე არ გადაიხადა</th>\n",
       "      <th></th>\n",
       "      <th></th>\n",
       "    </tr>\n",
       "  </thead>\n",
       "  <tbody>\n",
       "    <tr>\n",
       "      <td>0</td>\n",
       "      <td>577</td>\n",
       "      <td>429</td>\n",
       "    </tr>\n",
       "    <tr>\n",
       "      <td>1</td>\n",
       "      <td>30</td>\n",
       "      <td>244</td>\n",
       "    </tr>\n",
       "  </tbody>\n",
       "</table>\n",
       "</div>"
      ],
      "text/plain": [
       "col_0                   0    1\n",
       "ბოლომდე არ გადაიხადა          \n",
       "0                     577  429\n",
       "1                      30  244"
      ]
     },
     "execution_count": 329,
     "metadata": {},
     "output_type": "execute_result"
    }
   ],
   "source": [
    "rfc_conf_matrix = pd.crosstab(y_test, xgb_smote_pred)\n",
    "rfc_conf_matrix"
   ]
  },
  {
   "cell_type": "code",
   "execution_count": 330,
   "metadata": {},
   "outputs": [
    {
     "data": {
      "text/plain": [
       "0.78671875"
      ]
     },
     "execution_count": 330,
     "metadata": {},
     "output_type": "execute_result"
    }
   ],
   "source": [
    "accuracy_score(y_test, rfc_smote_pred)"
   ]
  },
  {
   "cell_type": "code",
   "execution_count": 331,
   "metadata": {},
   "outputs": [
    {
     "name": "stdout",
     "output_type": "stream",
     "text": [
      "Non-churn guessed correctly: 0.5735586481113321\n",
      "Churn guessed correctly: 0.8905109489051095\n"
     ]
    }
   ],
   "source": [
    "print('Non-churn guessed correctly:', rfc_conf_matrix[0][0]/(rfc_conf_matrix[0][0] + rfc_conf_matrix[1][0]))\n",
    "\n",
    "print('Churn guessed correctly:', rfc_conf_matrix[1][1]/(rfc_conf_matrix[0][1] + rfc_conf_matrix[1][1]))"
   ]
  },
  {
   "cell_type": "markdown",
   "metadata": {},
   "source": [
    "### Logistic Regression"
   ]
  },
  {
   "cell_type": "code",
   "execution_count": 222,
   "metadata": {},
   "outputs": [
    {
     "name": "stderr",
     "output_type": "stream",
     "text": [
      "C:\\Users\\TMalishava\\AppData\\Local\\Continuum\\anaconda3\\envs\\testenv\\lib\\site-packages\\sklearn\\linear_model\\logistic.py:758: ConvergenceWarning: lbfgs failed to converge. Increase the number of iterations.\n",
      "  \"of iterations.\", ConvergenceWarning)\n"
     ]
    }
   ],
   "source": [
    "smote = LogisticRegression(solver='lbfgs').fit(X_train_sm, y_train_sm)"
   ]
  },
  {
   "cell_type": "code",
   "execution_count": 223,
   "metadata": {},
   "outputs": [],
   "source": [
    "smote_pred = smote.predict(X_test)"
   ]
  },
  {
   "cell_type": "code",
   "execution_count": 224,
   "metadata": {},
   "outputs": [
    {
     "data": {
      "text/html": [
       "<div>\n",
       "<style scoped>\n",
       "    .dataframe tbody tr th:only-of-type {\n",
       "        vertical-align: middle;\n",
       "    }\n",
       "\n",
       "    .dataframe tbody tr th {\n",
       "        vertical-align: top;\n",
       "    }\n",
       "\n",
       "    .dataframe thead th {\n",
       "        text-align: right;\n",
       "    }\n",
       "</style>\n",
       "<table border=\"1\" class=\"dataframe\">\n",
       "  <thead>\n",
       "    <tr style=\"text-align: right;\">\n",
       "      <th>col_0</th>\n",
       "      <th>0</th>\n",
       "      <th>1</th>\n",
       "    </tr>\n",
       "    <tr>\n",
       "      <th>ბოლომდე არ გადაიხადა</th>\n",
       "      <th></th>\n",
       "      <th></th>\n",
       "    </tr>\n",
       "  </thead>\n",
       "  <tbody>\n",
       "    <tr>\n",
       "      <td>0</td>\n",
       "      <td>600</td>\n",
       "      <td>406</td>\n",
       "    </tr>\n",
       "    <tr>\n",
       "      <td>1</td>\n",
       "      <td>52</td>\n",
       "      <td>222</td>\n",
       "    </tr>\n",
       "  </tbody>\n",
       "</table>\n",
       "</div>"
      ],
      "text/plain": [
       "col_0                   0    1\n",
       "ბოლომდე არ გადაიხადა          \n",
       "0                     600  406\n",
       "1                      52  222"
      ]
     },
     "execution_count": 224,
     "metadata": {},
     "output_type": "execute_result"
    }
   ],
   "source": [
    "conf_matrix = pd.crosstab(y_test, smote_pred)\n",
    "conf_matrix"
   ]
  },
  {
   "cell_type": "code",
   "execution_count": 225,
   "metadata": {},
   "outputs": [
    {
     "data": {
      "text/plain": [
       "0.6421875"
      ]
     },
     "execution_count": 225,
     "metadata": {},
     "output_type": "execute_result"
    }
   ],
   "source": [
    "accuracy_score(y_test, smote_pred)"
   ]
  },
  {
   "cell_type": "code",
   "execution_count": 226,
   "metadata": {},
   "outputs": [
    {
     "name": "stdout",
     "output_type": "stream",
     "text": [
      "Non-churn guessed correctly: 0.5964214711729622\n",
      "Churn guessed correctly: 0.8102189781021898\n"
     ]
    }
   ],
   "source": [
    "print('Non-churn guessed correctly:', conf_matrix[0][0]/(conf_matrix[0][0] + conf_matrix[1][0]))\n",
    "\n",
    "print('Churn guessed correctly:', conf_matrix[1][1]/(conf_matrix[0][1] + conf_matrix[1][1]))"
   ]
  },
  {
   "cell_type": "markdown",
   "metadata": {},
   "source": [
    "### Linear Discriminant Analysis"
   ]
  },
  {
   "cell_type": "code",
   "execution_count": 227,
   "metadata": {},
   "outputs": [
    {
     "name": "stderr",
     "output_type": "stream",
     "text": [
      "C:\\Users\\TMalishava\\AppData\\Local\\Continuum\\anaconda3\\envs\\testenv\\lib\\site-packages\\sklearn\\discriminant_analysis.py:388: UserWarning: Variables are collinear.\n",
      "  warnings.warn(\"Variables are collinear.\")\n"
     ]
    }
   ],
   "source": [
    "lda_smote = LinearDiscriminantAnalysis().fit(X_train_sm, y_train_sm)"
   ]
  },
  {
   "cell_type": "code",
   "execution_count": 228,
   "metadata": {},
   "outputs": [],
   "source": [
    "lda_smote_pred = lda_smote.predict(X_test)"
   ]
  },
  {
   "cell_type": "code",
   "execution_count": 229,
   "metadata": {},
   "outputs": [
    {
     "data": {
      "text/html": [
       "<div>\n",
       "<style scoped>\n",
       "    .dataframe tbody tr th:only-of-type {\n",
       "        vertical-align: middle;\n",
       "    }\n",
       "\n",
       "    .dataframe tbody tr th {\n",
       "        vertical-align: top;\n",
       "    }\n",
       "\n",
       "    .dataframe thead th {\n",
       "        text-align: right;\n",
       "    }\n",
       "</style>\n",
       "<table border=\"1\" class=\"dataframe\">\n",
       "  <thead>\n",
       "    <tr style=\"text-align: right;\">\n",
       "      <th>col_0</th>\n",
       "      <th>0</th>\n",
       "      <th>1</th>\n",
       "    </tr>\n",
       "    <tr>\n",
       "      <th>ბოლომდე არ გადაიხადა</th>\n",
       "      <th></th>\n",
       "      <th></th>\n",
       "    </tr>\n",
       "  </thead>\n",
       "  <tbody>\n",
       "    <tr>\n",
       "      <td>0</td>\n",
       "      <td>579</td>\n",
       "      <td>427</td>\n",
       "    </tr>\n",
       "    <tr>\n",
       "      <td>1</td>\n",
       "      <td>50</td>\n",
       "      <td>224</td>\n",
       "    </tr>\n",
       "  </tbody>\n",
       "</table>\n",
       "</div>"
      ],
      "text/plain": [
       "col_0                   0    1\n",
       "ბოლომდე არ გადაიხადა          \n",
       "0                     579  427\n",
       "1                      50  224"
      ]
     },
     "execution_count": 229,
     "metadata": {},
     "output_type": "execute_result"
    }
   ],
   "source": [
    "lda_conf_matrix = pd.crosstab(y_test, lda_smote_pred)\n",
    "lda_conf_matrix"
   ]
  },
  {
   "cell_type": "code",
   "execution_count": 230,
   "metadata": {},
   "outputs": [
    {
     "data": {
      "text/plain": [
       "0.62734375"
      ]
     },
     "execution_count": 230,
     "metadata": {},
     "output_type": "execute_result"
    }
   ],
   "source": [
    "accuracy_score(y_test, lda_smote_pred)"
   ]
  },
  {
   "cell_type": "code",
   "execution_count": 231,
   "metadata": {},
   "outputs": [
    {
     "name": "stdout",
     "output_type": "stream",
     "text": [
      "Non-churn guessed correctly: 0.5755467196819085\n",
      "Churn guessed correctly: 0.8175182481751825\n"
     ]
    }
   ],
   "source": [
    "print('Non-churn guessed correctly:', lda_conf_matrix[0][0]/(lda_conf_matrix[0][0] + lda_conf_matrix[1][0]))\n",
    "\n",
    "print('Churn guessed correctly:', lda_conf_matrix[1][1]/(lda_conf_matrix[0][1] + lda_conf_matrix[1][1]))"
   ]
  },
  {
   "cell_type": "markdown",
   "metadata": {},
   "source": [
    "## Over sampling method v.2"
   ]
  },
  {
   "cell_type": "code",
   "execution_count": 312,
   "metadata": {},
   "outputs": [],
   "source": [
    "X = new_df.drop(labels = [\"ბოლომდე არ გადაიხადა\"], axis = 1)\n",
    "y = new_df[\"ბოლომდე არ გადაიხადა\"]\n",
    "\n",
    "X_train, X_test, y_train, y_test = train_test_split(X, y, test_size=0.2, random_state=0)"
   ]
  },
  {
   "cell_type": "code",
   "execution_count": 313,
   "metadata": {},
   "outputs": [],
   "source": [
    "X_up = pd.concat([X_train, y_train], axis=1)"
   ]
  },
  {
   "cell_type": "code",
   "execution_count": 314,
   "metadata": {},
   "outputs": [],
   "source": [
    "non_churn = X_up[X_up['ბოლომდე არ გადაიხადა']==0]\n",
    "churn = X_up[X_up['ბოლომდე არ გადაიხადა']==1]"
   ]
  },
  {
   "cell_type": "code",
   "execution_count": 315,
   "metadata": {},
   "outputs": [],
   "source": [
    "churn_upsampled = resample(churn,\n",
    "                          replace=True, # sample with replacement\n",
    "                          n_samples=len(non_churn), # match number in majority class\n",
    "                          random_state=27) # reproducible results"
   ]
  },
  {
   "cell_type": "code",
   "execution_count": 316,
   "metadata": {},
   "outputs": [],
   "source": [
    "# combine majority and upsampled minority\n",
    "upsampled = pd.concat([non_churn, churn_upsampled])"
   ]
  },
  {
   "cell_type": "code",
   "execution_count": 317,
   "metadata": {},
   "outputs": [
    {
     "data": {
      "text/plain": [
       "1    4019\n",
       "0    4019\n",
       "Name: ბოლომდე არ გადაიხადა, dtype: int64"
      ]
     },
     "execution_count": 317,
     "metadata": {},
     "output_type": "execute_result"
    }
   ],
   "source": [
    "# combine majority and upsampled minority\n",
    "upsampled = pd.concat([non_churn, churn_upsampled])\n",
    "\n",
    "# check new class counts\n",
    "upsampled['ბოლომდე არ გადაიხადა'].value_counts()"
   ]
  },
  {
   "cell_type": "code",
   "execution_count": 318,
   "metadata": {},
   "outputs": [],
   "source": [
    "y_train_up = upsampled['ბოლომდე არ გადაიხადა']\n",
    "X_train_up = upsampled.drop('ბოლომდე არ გადაიხადა', axis=1)"
   ]
  },
  {
   "cell_type": "code",
   "execution_count": 319,
   "metadata": {},
   "outputs": [
    {
     "name": "stderr",
     "output_type": "stream",
     "text": [
      "C:\\Users\\TMalishava\\AppData\\Local\\Continuum\\anaconda3\\envs\\testenv\\lib\\site-packages\\sklearn\\preprocessing\\data.py:323: DataConversionWarning: Data with input dtype int64, float64 were all converted to float64 by MinMaxScaler.\n",
      "  return self.partial_fit(X, y)\n"
     ]
    }
   ],
   "source": [
    "scaler = MinMaxScaler()\n",
    "X_train_up = scaler.fit_transform(X_train_up)\n",
    "X_test = scaler.transform(X_test)"
   ]
  },
  {
   "cell_type": "markdown",
   "metadata": {},
   "source": [
    "### Random Forest Classifier"
   ]
  },
  {
   "cell_type": "code",
   "execution_count": 288,
   "metadata": {},
   "outputs": [],
   "source": [
    "rfc_upsampled = RandomForestClassifier(n_estimators = 100).fit(X_train_up, y_train_up)"
   ]
  },
  {
   "cell_type": "code",
   "execution_count": 289,
   "metadata": {},
   "outputs": [],
   "source": [
    "rfc_upsampled_pred = rfc_upsampled.predict(X_test)"
   ]
  },
  {
   "cell_type": "code",
   "execution_count": 290,
   "metadata": {},
   "outputs": [
    {
     "data": {
      "text/html": [
       "<div>\n",
       "<style scoped>\n",
       "    .dataframe tbody tr th:only-of-type {\n",
       "        vertical-align: middle;\n",
       "    }\n",
       "\n",
       "    .dataframe tbody tr th {\n",
       "        vertical-align: top;\n",
       "    }\n",
       "\n",
       "    .dataframe thead th {\n",
       "        text-align: right;\n",
       "    }\n",
       "</style>\n",
       "<table border=\"1\" class=\"dataframe\">\n",
       "  <thead>\n",
       "    <tr style=\"text-align: right;\">\n",
       "      <th>col_0</th>\n",
       "      <th>0</th>\n",
       "      <th>1</th>\n",
       "    </tr>\n",
       "    <tr>\n",
       "      <th>ბოლომდე არ გადაიხადა</th>\n",
       "      <th></th>\n",
       "      <th></th>\n",
       "    </tr>\n",
       "  </thead>\n",
       "  <tbody>\n",
       "    <tr>\n",
       "      <td>0</td>\n",
       "      <td>875</td>\n",
       "      <td>131</td>\n",
       "    </tr>\n",
       "    <tr>\n",
       "      <td>1</td>\n",
       "      <td>147</td>\n",
       "      <td>127</td>\n",
       "    </tr>\n",
       "  </tbody>\n",
       "</table>\n",
       "</div>"
      ],
      "text/plain": [
       "col_0                   0    1\n",
       "ბოლომდე არ გადაიხადა          \n",
       "0                     875  131\n",
       "1                     147  127"
      ]
     },
     "execution_count": 290,
     "metadata": {},
     "output_type": "execute_result"
    }
   ],
   "source": [
    "rfc_conf_matrix = pd.crosstab(y_test, rfc_upsampled_pred)\n",
    "rfc_conf_matrix"
   ]
  },
  {
   "cell_type": "code",
   "execution_count": 291,
   "metadata": {},
   "outputs": [
    {
     "data": {
      "text/plain": [
       "0.7828125"
      ]
     },
     "execution_count": 291,
     "metadata": {},
     "output_type": "execute_result"
    }
   ],
   "source": [
    "accuracy_score(y_test, rfc_upsampled_pred)"
   ]
  },
  {
   "cell_type": "code",
   "execution_count": 292,
   "metadata": {},
   "outputs": [
    {
     "name": "stdout",
     "output_type": "stream",
     "text": [
      "Non-churn guessed correctly: 0.8697813121272365\n",
      "Churn guessed correctly: 0.4635036496350365\n"
     ]
    }
   ],
   "source": [
    "print('Non-churn guessed correctly:', rfc_conf_matrix[0][0]/(rfc_conf_matrix[0][0] + rfc_conf_matrix[1][0]))\n",
    "\n",
    "print('Churn guessed correctly:', rfc_conf_matrix[1][1]/(rfc_conf_matrix[0][1] + rfc_conf_matrix[1][1]))"
   ]
  },
  {
   "cell_type": "markdown",
   "metadata": {},
   "source": [
    "### Gradient Boosting"
   ]
  },
  {
   "cell_type": "code",
   "execution_count": 320,
   "metadata": {},
   "outputs": [],
   "source": [
    "from xgboost import XGBClassifier"
   ]
  },
  {
   "cell_type": "code",
   "execution_count": 321,
   "metadata": {},
   "outputs": [],
   "source": [
    "xgb_upsampled = XGBClassifier().fit(X_train_down, y_train_down)"
   ]
  },
  {
   "cell_type": "code",
   "execution_count": 322,
   "metadata": {},
   "outputs": [],
   "source": [
    "xgb_upsampled_pred = xgb_upsampled.predict(X_test)"
   ]
  },
  {
   "cell_type": "code",
   "execution_count": 323,
   "metadata": {},
   "outputs": [
    {
     "data": {
      "text/html": [
       "<div>\n",
       "<style scoped>\n",
       "    .dataframe tbody tr th:only-of-type {\n",
       "        vertical-align: middle;\n",
       "    }\n",
       "\n",
       "    .dataframe tbody tr th {\n",
       "        vertical-align: top;\n",
       "    }\n",
       "\n",
       "    .dataframe thead th {\n",
       "        text-align: right;\n",
       "    }\n",
       "</style>\n",
       "<table border=\"1\" class=\"dataframe\">\n",
       "  <thead>\n",
       "    <tr style=\"text-align: right;\">\n",
       "      <th>col_0</th>\n",
       "      <th>0</th>\n",
       "      <th>1</th>\n",
       "    </tr>\n",
       "    <tr>\n",
       "      <th>ბოლომდე არ გადაიხადა</th>\n",
       "      <th></th>\n",
       "      <th></th>\n",
       "    </tr>\n",
       "  </thead>\n",
       "  <tbody>\n",
       "    <tr>\n",
       "      <td>0</td>\n",
       "      <td>577</td>\n",
       "      <td>429</td>\n",
       "    </tr>\n",
       "    <tr>\n",
       "      <td>1</td>\n",
       "      <td>30</td>\n",
       "      <td>244</td>\n",
       "    </tr>\n",
       "  </tbody>\n",
       "</table>\n",
       "</div>"
      ],
      "text/plain": [
       "col_0                   0    1\n",
       "ბოლომდე არ გადაიხადა          \n",
       "0                     577  429\n",
       "1                      30  244"
      ]
     },
     "execution_count": 323,
     "metadata": {},
     "output_type": "execute_result"
    }
   ],
   "source": [
    "rfc_conf_matrix = pd.crosstab(y_test, xgb_upsampled_pred)\n",
    "rfc_conf_matrix"
   ]
  },
  {
   "cell_type": "code",
   "execution_count": 324,
   "metadata": {},
   "outputs": [
    {
     "data": {
      "text/plain": [
       "0.7828125"
      ]
     },
     "execution_count": 324,
     "metadata": {},
     "output_type": "execute_result"
    }
   ],
   "source": [
    "accuracy_score(y_test, rfc_upsampled_pred)"
   ]
  },
  {
   "cell_type": "code",
   "execution_count": 325,
   "metadata": {},
   "outputs": [
    {
     "name": "stdout",
     "output_type": "stream",
     "text": [
      "Non-churn guessed correctly: 0.5735586481113321\n",
      "Churn guessed correctly: 0.8905109489051095\n"
     ]
    }
   ],
   "source": [
    "print('Non-churn guessed correctly:', rfc_conf_matrix[0][0]/(rfc_conf_matrix[0][0] + rfc_conf_matrix[1][0]))\n",
    "\n",
    "print('Churn guessed correctly:', rfc_conf_matrix[1][1]/(rfc_conf_matrix[0][1] + rfc_conf_matrix[1][1]))"
   ]
  },
  {
   "cell_type": "markdown",
   "metadata": {},
   "source": [
    "## Logistic Regression"
   ]
  },
  {
   "cell_type": "code",
   "execution_count": 240,
   "metadata": {},
   "outputs": [],
   "source": [
    "upsampled = LogisticRegression(solver='liblinear').fit(X_train_up, y_train_up)"
   ]
  },
  {
   "cell_type": "code",
   "execution_count": 241,
   "metadata": {},
   "outputs": [],
   "source": [
    "upsampled_pred = upsampled.predict(X_test)"
   ]
  },
  {
   "cell_type": "code",
   "execution_count": 242,
   "metadata": {},
   "outputs": [
    {
     "data": {
      "text/html": [
       "<div>\n",
       "<style scoped>\n",
       "    .dataframe tbody tr th:only-of-type {\n",
       "        vertical-align: middle;\n",
       "    }\n",
       "\n",
       "    .dataframe tbody tr th {\n",
       "        vertical-align: top;\n",
       "    }\n",
       "\n",
       "    .dataframe thead th {\n",
       "        text-align: right;\n",
       "    }\n",
       "</style>\n",
       "<table border=\"1\" class=\"dataframe\">\n",
       "  <thead>\n",
       "    <tr style=\"text-align: right;\">\n",
       "      <th>col_0</th>\n",
       "      <th>0</th>\n",
       "      <th>1</th>\n",
       "    </tr>\n",
       "    <tr>\n",
       "      <th>ბოლომდე არ გადაიხადა</th>\n",
       "      <th></th>\n",
       "      <th></th>\n",
       "    </tr>\n",
       "  </thead>\n",
       "  <tbody>\n",
       "    <tr>\n",
       "      <td>0</td>\n",
       "      <td>583</td>\n",
       "      <td>423</td>\n",
       "    </tr>\n",
       "    <tr>\n",
       "      <td>1</td>\n",
       "      <td>50</td>\n",
       "      <td>224</td>\n",
       "    </tr>\n",
       "  </tbody>\n",
       "</table>\n",
       "</div>"
      ],
      "text/plain": [
       "col_0                   0    1\n",
       "ბოლომდე არ გადაიხადა          \n",
       "0                     583  423\n",
       "1                      50  224"
      ]
     },
     "execution_count": 242,
     "metadata": {},
     "output_type": "execute_result"
    }
   ],
   "source": [
    "conf_matrix = pd.crosstab(y_test, upsampled_pred)\n",
    "conf_matrix"
   ]
  },
  {
   "cell_type": "code",
   "execution_count": 243,
   "metadata": {},
   "outputs": [
    {
     "data": {
      "text/plain": [
       "0.63046875"
      ]
     },
     "execution_count": 243,
     "metadata": {},
     "output_type": "execute_result"
    }
   ],
   "source": [
    "accuracy_score(y_test, upsampled_pred)"
   ]
  },
  {
   "cell_type": "code",
   "execution_count": 244,
   "metadata": {},
   "outputs": [
    {
     "name": "stdout",
     "output_type": "stream",
     "text": [
      "Non-churn guessed correctly: 0.5795228628230616\n",
      "Churn guessed correctly: 0.8175182481751825\n"
     ]
    }
   ],
   "source": [
    "print('Non-churn guessed correctly:', conf_matrix[0][0]/(conf_matrix[0][0] + conf_matrix[1][0]))\n",
    "\n",
    "print('Churn guessed correctly:', conf_matrix[1][1]/(conf_matrix[0][1] + conf_matrix[1][1]))"
   ]
  },
  {
   "cell_type": "markdown",
   "metadata": {},
   "source": [
    "### Linear Discriminant Analysis"
   ]
  },
  {
   "cell_type": "code",
   "execution_count": 245,
   "metadata": {},
   "outputs": [
    {
     "name": "stderr",
     "output_type": "stream",
     "text": [
      "C:\\Users\\TMalishava\\AppData\\Local\\Continuum\\anaconda3\\envs\\testenv\\lib\\site-packages\\sklearn\\discriminant_analysis.py:388: UserWarning: Variables are collinear.\n",
      "  warnings.warn(\"Variables are collinear.\")\n"
     ]
    }
   ],
   "source": [
    "lda_upsampled = LinearDiscriminantAnalysis().fit(X_train_up, y_train_up)"
   ]
  },
  {
   "cell_type": "code",
   "execution_count": 246,
   "metadata": {},
   "outputs": [],
   "source": [
    "lda_upsampled_pred = lda_upsampled.predict(X_test)"
   ]
  },
  {
   "cell_type": "code",
   "execution_count": 247,
   "metadata": {},
   "outputs": [
    {
     "data": {
      "text/html": [
       "<div>\n",
       "<style scoped>\n",
       "    .dataframe tbody tr th:only-of-type {\n",
       "        vertical-align: middle;\n",
       "    }\n",
       "\n",
       "    .dataframe tbody tr th {\n",
       "        vertical-align: top;\n",
       "    }\n",
       "\n",
       "    .dataframe thead th {\n",
       "        text-align: right;\n",
       "    }\n",
       "</style>\n",
       "<table border=\"1\" class=\"dataframe\">\n",
       "  <thead>\n",
       "    <tr style=\"text-align: right;\">\n",
       "      <th>col_0</th>\n",
       "      <th>0</th>\n",
       "      <th>1</th>\n",
       "    </tr>\n",
       "    <tr>\n",
       "      <th>ბოლომდე არ გადაიხადა</th>\n",
       "      <th></th>\n",
       "      <th></th>\n",
       "    </tr>\n",
       "  </thead>\n",
       "  <tbody>\n",
       "    <tr>\n",
       "      <td>0</td>\n",
       "      <td>562</td>\n",
       "      <td>444</td>\n",
       "    </tr>\n",
       "    <tr>\n",
       "      <td>1</td>\n",
       "      <td>42</td>\n",
       "      <td>232</td>\n",
       "    </tr>\n",
       "  </tbody>\n",
       "</table>\n",
       "</div>"
      ],
      "text/plain": [
       "col_0                   0    1\n",
       "ბოლომდე არ გადაიხადა          \n",
       "0                     562  444\n",
       "1                      42  232"
      ]
     },
     "execution_count": 247,
     "metadata": {},
     "output_type": "execute_result"
    }
   ],
   "source": [
    "lda_conf_matrix = pd.crosstab(y_test, lda_upsampled_pred)\n",
    "lda_conf_matrix"
   ]
  },
  {
   "cell_type": "code",
   "execution_count": 248,
   "metadata": {},
   "outputs": [
    {
     "data": {
      "text/plain": [
       "0.6203125"
      ]
     },
     "execution_count": 248,
     "metadata": {},
     "output_type": "execute_result"
    }
   ],
   "source": [
    "accuracy_score(y_test, lda_upsampled_pred)"
   ]
  },
  {
   "cell_type": "code",
   "execution_count": 249,
   "metadata": {},
   "outputs": [
    {
     "name": "stdout",
     "output_type": "stream",
     "text": [
      "Non-churn guessed correctly: 0.558648111332008\n",
      "Churn guessed correctly: 0.8467153284671532\n"
     ]
    }
   ],
   "source": [
    "print('Non-churn guessed correctly:', lda_conf_matrix[0][0]/(lda_conf_matrix[0][0] + lda_conf_matrix[1][0]))\n",
    "\n",
    "print('Churn guessed correctly:', lda_conf_matrix[1][1]/(lda_conf_matrix[0][1] + lda_conf_matrix[1][1]))"
   ]
  },
  {
   "cell_type": "markdown",
   "metadata": {},
   "source": [
    "## Under sampling method"
   ]
  },
  {
   "cell_type": "code",
   "execution_count": 293,
   "metadata": {},
   "outputs": [],
   "source": [
    "X = new_df.drop(labels = [\"ბოლომდე არ გადაიხადა\"], axis = 1)\n",
    "y = new_df[\"ბოლომდე არ გადაიხადა\"]\n",
    "\n",
    "X_train, X_test, y_train, y_test = train_test_split(X, y, test_size=0.2, random_state=0)"
   ]
  },
  {
   "cell_type": "code",
   "execution_count": 294,
   "metadata": {},
   "outputs": [],
   "source": [
    "X_down = pd.concat([X_train, y_train], axis=1)"
   ]
  },
  {
   "cell_type": "code",
   "execution_count": 295,
   "metadata": {},
   "outputs": [],
   "source": [
    "non_churn = X_down[X_down['ბოლომდე არ გადაიხადა']==0]\n",
    "churn = X_down[X_down['ბოლომდე არ გადაიხადა']==1]"
   ]
  },
  {
   "cell_type": "code",
   "execution_count": 296,
   "metadata": {},
   "outputs": [],
   "source": [
    "non_churn_downsampled = resample(non_churn,\n",
    "                                replace = False, # sample without replacement\n",
    "                                n_samples = len(churn), # match minority n\n",
    "                                random_state = 27) # reproducible results"
   ]
  },
  {
   "cell_type": "code",
   "execution_count": 297,
   "metadata": {},
   "outputs": [],
   "source": [
    "# combine minority and downsampled majority\n",
    "downsampled = pd.concat([non_churn_downsampled, churn])"
   ]
  },
  {
   "cell_type": "code",
   "execution_count": 298,
   "metadata": {},
   "outputs": [
    {
     "data": {
      "text/plain": [
       "1    1101\n",
       "0    1101\n",
       "Name: ბოლომდე არ გადაიხადა, dtype: int64"
      ]
     },
     "execution_count": 298,
     "metadata": {},
     "output_type": "execute_result"
    }
   ],
   "source": [
    "# checking counts\n",
    "downsampled['ბოლომდე არ გადაიხადა'].value_counts()"
   ]
  },
  {
   "cell_type": "code",
   "execution_count": 299,
   "metadata": {},
   "outputs": [],
   "source": [
    "y_train_down = downsampled['ბოლომდე არ გადაიხადა']\n",
    "X_train_down = downsampled.drop('ბოლომდე არ გადაიხადა', axis=1)"
   ]
  },
  {
   "cell_type": "code",
   "execution_count": 300,
   "metadata": {},
   "outputs": [
    {
     "name": "stderr",
     "output_type": "stream",
     "text": [
      "C:\\Users\\TMalishava\\AppData\\Local\\Continuum\\anaconda3\\envs\\testenv\\lib\\site-packages\\sklearn\\preprocessing\\data.py:323: DataConversionWarning: Data with input dtype int64, float64 were all converted to float64 by MinMaxScaler.\n",
      "  return self.partial_fit(X, y)\n"
     ]
    }
   ],
   "source": [
    "scaler = MinMaxScaler()\n",
    "X_train_down = scaler.fit_transform(X_train_down)\n",
    "X_test = scaler.transform(X_test)"
   ]
  },
  {
   "cell_type": "markdown",
   "metadata": {},
   "source": [
    "### Random Forest Classifier"
   ]
  },
  {
   "cell_type": "code",
   "execution_count": 301,
   "metadata": {},
   "outputs": [],
   "source": [
    "rfc_undersampled = RandomForestClassifier(n_estimators = 100).fit(X_train_down, y_train_down)"
   ]
  },
  {
   "cell_type": "code",
   "execution_count": 302,
   "metadata": {},
   "outputs": [],
   "source": [
    "rfc_undersampled_pred = rfc_undersampled.predict(X_test)"
   ]
  },
  {
   "cell_type": "code",
   "execution_count": 303,
   "metadata": {
    "scrolled": true
   },
   "outputs": [
    {
     "data": {
      "text/html": [
       "<div>\n",
       "<style scoped>\n",
       "    .dataframe tbody tr th:only-of-type {\n",
       "        vertical-align: middle;\n",
       "    }\n",
       "\n",
       "    .dataframe tbody tr th {\n",
       "        vertical-align: top;\n",
       "    }\n",
       "\n",
       "    .dataframe thead th {\n",
       "        text-align: right;\n",
       "    }\n",
       "</style>\n",
       "<table border=\"1\" class=\"dataframe\">\n",
       "  <thead>\n",
       "    <tr style=\"text-align: right;\">\n",
       "      <th>col_0</th>\n",
       "      <th>0</th>\n",
       "      <th>1</th>\n",
       "    </tr>\n",
       "    <tr>\n",
       "      <th>ბოლომდე არ გადაიხადა</th>\n",
       "      <th></th>\n",
       "      <th></th>\n",
       "    </tr>\n",
       "  </thead>\n",
       "  <tbody>\n",
       "    <tr>\n",
       "      <td>0</td>\n",
       "      <td>706</td>\n",
       "      <td>300</td>\n",
       "    </tr>\n",
       "    <tr>\n",
       "      <td>1</td>\n",
       "      <td>59</td>\n",
       "      <td>215</td>\n",
       "    </tr>\n",
       "  </tbody>\n",
       "</table>\n",
       "</div>"
      ],
      "text/plain": [
       "col_0                   0    1\n",
       "ბოლომდე არ გადაიხადა          \n",
       "0                     706  300\n",
       "1                      59  215"
      ]
     },
     "execution_count": 303,
     "metadata": {},
     "output_type": "execute_result"
    }
   ],
   "source": [
    "rfc_conf_matrix = pd.crosstab(y_test, rfc_undersampled_pred)\n",
    "rfc_conf_matrix"
   ]
  },
  {
   "cell_type": "code",
   "execution_count": 304,
   "metadata": {},
   "outputs": [
    {
     "data": {
      "text/plain": [
       "0.71953125"
      ]
     },
     "execution_count": 304,
     "metadata": {},
     "output_type": "execute_result"
    }
   ],
   "source": [
    "accuracy_score(y_test, rfc_undersampled_pred)"
   ]
  },
  {
   "cell_type": "code",
   "execution_count": 305,
   "metadata": {},
   "outputs": [
    {
     "name": "stdout",
     "output_type": "stream",
     "text": [
      "Non-churn guessed correctly: 0.7017892644135189\n",
      "Churn guessed correctly: 0.7846715328467153\n"
     ]
    }
   ],
   "source": [
    "print('Non-churn guessed correctly:', rfc_conf_matrix[0][0]/(rfc_conf_matrix[0][0] + rfc_conf_matrix[1][0]))\n",
    "\n",
    "print('Churn guessed correctly:', rfc_conf_matrix[1][1]/(rfc_conf_matrix[0][1] + rfc_conf_matrix[1][1]))"
   ]
  },
  {
   "cell_type": "markdown",
   "metadata": {},
   "source": [
    "#### Feature Importance"
   ]
  },
  {
   "cell_type": "code",
   "execution_count": 332,
   "metadata": {},
   "outputs": [],
   "source": [
    "feature_importances = pd.DataFrame(rfc_undersampled.feature_importances_,\n",
    "                                   index = X.columns,\n",
    "                                   columns=['importance']).sort_values('importance', ascending=False)"
   ]
  },
  {
   "cell_type": "code",
   "execution_count": 333,
   "metadata": {},
   "outputs": [
    {
     "data": {
      "text/html": [
       "<div>\n",
       "<style scoped>\n",
       "    .dataframe tbody tr th:only-of-type {\n",
       "        vertical-align: middle;\n",
       "    }\n",
       "\n",
       "    .dataframe tbody tr th {\n",
       "        vertical-align: top;\n",
       "    }\n",
       "\n",
       "    .dataframe thead th {\n",
       "        text-align: right;\n",
       "    }\n",
       "</style>\n",
       "<table border=\"1\" class=\"dataframe\">\n",
       "  <thead>\n",
       "    <tr style=\"text-align: right;\">\n",
       "      <th></th>\n",
       "      <th>importance</th>\n",
       "    </tr>\n",
       "  </thead>\n",
       "  <tbody>\n",
       "    <tr>\n",
       "      <td>პრემია</td>\n",
       "      <td>0.191721</td>\n",
       "    </tr>\n",
       "    <tr>\n",
       "      <td>დამზღვევის ასაკი</td>\n",
       "      <td>0.185155</td>\n",
       "    </tr>\n",
       "    <tr>\n",
       "      <td>პასუხისმგებლის ასაკი</td>\n",
       "      <td>0.132940</td>\n",
       "    </tr>\n",
       "    <tr>\n",
       "      <td>in_answered</td>\n",
       "      <td>0.052070</td>\n",
       "    </tr>\n",
       "    <tr>\n",
       "      <td>ვადაგადაცილებული დღე</td>\n",
       "      <td>0.050222</td>\n",
       "    </tr>\n",
       "    <tr>\n",
       "      <td>გარეცხვის რაოდენობა</td>\n",
       "      <td>0.048236</td>\n",
       "    </tr>\n",
       "    <tr>\n",
       "      <td>მოთხოვნილი</td>\n",
       "      <td>0.036136</td>\n",
       "    </tr>\n",
       "    <tr>\n",
       "      <td>თანამშრომლი ქალია</td>\n",
       "      <td>0.029478</td>\n",
       "    </tr>\n",
       "    <tr>\n",
       "      <td>დამზღ არის მესაკუთრე</td>\n",
       "      <td>0.028171</td>\n",
       "    </tr>\n",
       "    <tr>\n",
       "      <td>დამზღვევი ქალია</td>\n",
       "      <td>0.026915</td>\n",
       "    </tr>\n",
       "  </tbody>\n",
       "</table>\n",
       "</div>"
      ],
      "text/plain": [
       "                      importance\n",
       "პრემია                  0.191721\n",
       "დამზღვევის ასაკი        0.185155\n",
       "პასუხისმგებლის ასაკი    0.132940\n",
       "in_answered             0.052070\n",
       "ვადაგადაცილებული დღე    0.050222\n",
       "გარეცხვის რაოდენობა     0.048236\n",
       "მოთხოვნილი              0.036136\n",
       "თანამშრომლი ქალია       0.029478\n",
       "დამზღ არის მესაკუთრე    0.028171\n",
       "დამზღვევი ქალია         0.026915"
      ]
     },
     "execution_count": 333,
     "metadata": {},
     "output_type": "execute_result"
    }
   ],
   "source": [
    "feature_importances.head(10)"
   ]
  },
  {
   "cell_type": "code",
   "execution_count": 340,
   "metadata": {},
   "outputs": [
    {
     "data": {
      "text/plain": [
       "<matplotlib.axes._subplots.AxesSubplot at 0x2683a4cc288>"
      ]
     },
     "execution_count": 340,
     "metadata": {},
     "output_type": "execute_result"
    },
    {
     "data": {
      "image/png": "[encoded data removed]",
      "text/plain": [
       "<Figure size 864x504 with 1 Axes>"
      ]
     },
     "metadata": {
      "needs_background": "light"
     },
     "output_type": "display_data"
    }
   ],
   "source": [
    "feat_importances = pd.Series(rfc_undersampled.feature_importances_, index=new_df.columns.tolist()[0:-1])\n",
    "feat_importances.nlargest(15).plot(kind='barh',figsize=(12,7),fontsize=15)"
   ]
  },
  {
   "cell_type": "markdown",
   "metadata": {},
   "source": [
    "### Gradient Boosting"
   ]
  },
  {
   "cell_type": "code",
   "execution_count": 306,
   "metadata": {},
   "outputs": [],
   "source": [
    "from xgboost import XGBClassifier"
   ]
  },
  {
   "cell_type": "code",
   "execution_count": 307,
   "metadata": {},
   "outputs": [],
   "source": [
    "xgb_undersampled = XGBClassifier().fit(X_train_down, y_train_down)"
   ]
  },
  {
   "cell_type": "code",
   "execution_count": 308,
   "metadata": {},
   "outputs": [],
   "source": [
    "xgb_undersampled_pred = xgb_undersampled.predict(X_test)"
   ]
  },
  {
   "cell_type": "code",
   "execution_count": 309,
   "metadata": {},
   "outputs": [
    {
     "data": {
      "text/html": [
       "<div>\n",
       "<style scoped>\n",
       "    .dataframe tbody tr th:only-of-type {\n",
       "        vertical-align: middle;\n",
       "    }\n",
       "\n",
       "    .dataframe tbody tr th {\n",
       "        vertical-align: top;\n",
       "    }\n",
       "\n",
       "    .dataframe thead th {\n",
       "        text-align: right;\n",
       "    }\n",
       "</style>\n",
       "<table border=\"1\" class=\"dataframe\">\n",
       "  <thead>\n",
       "    <tr style=\"text-align: right;\">\n",
       "      <th>col_0</th>\n",
       "      <th>0</th>\n",
       "      <th>1</th>\n",
       "    </tr>\n",
       "    <tr>\n",
       "      <th>ბოლომდე არ გადაიხადა</th>\n",
       "      <th></th>\n",
       "      <th></th>\n",
       "    </tr>\n",
       "  </thead>\n",
       "  <tbody>\n",
       "    <tr>\n",
       "      <td>0</td>\n",
       "      <td>631</td>\n",
       "      <td>375</td>\n",
       "    </tr>\n",
       "    <tr>\n",
       "      <td>1</td>\n",
       "      <td>37</td>\n",
       "      <td>237</td>\n",
       "    </tr>\n",
       "  </tbody>\n",
       "</table>\n",
       "</div>"
      ],
      "text/plain": [
       "col_0                   0    1\n",
       "ბოლომდე არ გადაიხადა          \n",
       "0                     631  375\n",
       "1                      37  237"
      ]
     },
     "execution_count": 309,
     "metadata": {},
     "output_type": "execute_result"
    }
   ],
   "source": [
    "rfc_conf_matrix = pd.crosstab(y_test, xgb_undersampled_pred)\n",
    "rfc_conf_matrix"
   ]
  },
  {
   "cell_type": "code",
   "execution_count": 310,
   "metadata": {},
   "outputs": [
    {
     "data": {
      "text/plain": [
       "0.71953125"
      ]
     },
     "execution_count": 310,
     "metadata": {},
     "output_type": "execute_result"
    }
   ],
   "source": [
    "accuracy_score(y_test, rfc_undersampled_pred)"
   ]
  },
  {
   "cell_type": "code",
   "execution_count": 311,
   "metadata": {},
   "outputs": [
    {
     "name": "stdout",
     "output_type": "stream",
     "text": [
      "Non-churn guessed correctly: 0.6272365805168986\n",
      "Churn guessed correctly: 0.864963503649635\n"
     ]
    }
   ],
   "source": [
    "print('Non-churn guessed correctly:', rfc_conf_matrix[0][0]/(rfc_conf_matrix[0][0] + rfc_conf_matrix[1][0]))\n",
    "\n",
    "print('Churn guessed correctly:', rfc_conf_matrix[1][1]/(rfc_conf_matrix[0][1] + rfc_conf_matrix[1][1]))"
   ]
  },
  {
   "cell_type": "markdown",
   "metadata": {},
   "source": [
    "### Logistic Regression"
   ]
  },
  {
   "cell_type": "code",
   "execution_count": 258,
   "metadata": {},
   "outputs": [],
   "source": [
    "undersampled = LogisticRegression(solver='liblinear').fit(X_train_down, y_train_down)"
   ]
  },
  {
   "cell_type": "code",
   "execution_count": 259,
   "metadata": {},
   "outputs": [],
   "source": [
    "undersampled_pred = undersampled.predict(X_test)"
   ]
  },
  {
   "cell_type": "code",
   "execution_count": 260,
   "metadata": {},
   "outputs": [
    {
     "data": {
      "text/html": [
       "<div>\n",
       "<style scoped>\n",
       "    .dataframe tbody tr th:only-of-type {\n",
       "        vertical-align: middle;\n",
       "    }\n",
       "\n",
       "    .dataframe tbody tr th {\n",
       "        vertical-align: top;\n",
       "    }\n",
       "\n",
       "    .dataframe thead th {\n",
       "        text-align: right;\n",
       "    }\n",
       "</style>\n",
       "<table border=\"1\" class=\"dataframe\">\n",
       "  <thead>\n",
       "    <tr style=\"text-align: right;\">\n",
       "      <th>col_0</th>\n",
       "      <th>0</th>\n",
       "      <th>1</th>\n",
       "    </tr>\n",
       "    <tr>\n",
       "      <th>ბოლომდე არ გადაიხადა</th>\n",
       "      <th></th>\n",
       "      <th></th>\n",
       "    </tr>\n",
       "  </thead>\n",
       "  <tbody>\n",
       "    <tr>\n",
       "      <td>0</td>\n",
       "      <td>584</td>\n",
       "      <td>422</td>\n",
       "    </tr>\n",
       "    <tr>\n",
       "      <td>1</td>\n",
       "      <td>51</td>\n",
       "      <td>223</td>\n",
       "    </tr>\n",
       "  </tbody>\n",
       "</table>\n",
       "</div>"
      ],
      "text/plain": [
       "col_0                   0    1\n",
       "ბოლომდე არ გადაიხადა          \n",
       "0                     584  422\n",
       "1                      51  223"
      ]
     },
     "execution_count": 260,
     "metadata": {},
     "output_type": "execute_result"
    }
   ],
   "source": [
    "conf_matrix = pd.crosstab(y_test, undersampled_pred)\n",
    "conf_matrix"
   ]
  },
  {
   "cell_type": "code",
   "execution_count": 261,
   "metadata": {},
   "outputs": [
    {
     "data": {
      "text/plain": [
       "0.63046875"
      ]
     },
     "execution_count": 261,
     "metadata": {},
     "output_type": "execute_result"
    }
   ],
   "source": [
    "accuracy_score(y_test, undersampled_pred)"
   ]
  },
  {
   "cell_type": "code",
   "execution_count": 262,
   "metadata": {
    "scrolled": true
   },
   "outputs": [
    {
     "name": "stdout",
     "output_type": "stream",
     "text": [
      "Non-churn guessed correctly: 0.5805168986083499\n",
      "Churn guessed correctly: 0.8138686131386861\n"
     ]
    }
   ],
   "source": [
    "print('Non-churn guessed correctly:', conf_matrix[0][0]/(conf_matrix[0][0] + conf_matrix[1][0]))\n",
    "\n",
    "print('Churn guessed correctly:', conf_matrix[1][1]/(conf_matrix[0][1] + conf_matrix[1][1]))"
   ]
  },
  {
   "cell_type": "code",
   "execution_count": 263,
   "metadata": {},
   "outputs": [
    {
     "data": {
      "text/plain": [
       "Text(0.5, 0, 'Relative Feature Importance')"
      ]
     },
     "execution_count": 263,
     "metadata": {},
     "output_type": "execute_result"
    },
    {
     "data": {
      "image/png": "[encoded data removed]",
      "text/plain": [
       "<Figure size 1080x1080 with 1 Axes>"
      ]
     },
     "metadata": {
      "needs_background": "light"
     },
     "output_type": "display_data"
    }
   ],
   "source": [
    "feature_importance = abs(undersampled.coef_[0])\n",
    "feature_importance = 100.0 * (feature_importance / feature_importance.max())\n",
    "sorted_idx = np.argsort(feature_importance)\n",
    "pos = np.arange(sorted_idx.shape[0]) + .5\n",
    "\n",
    "featfig = plt.figure(figsize=(15,15))\n",
    "featax = featfig.add_subplot(1, 1, 1)\n",
    "featax.barh(pos, feature_importance[sorted_idx], align='center')\n",
    "featax.set_yticks(pos)\n",
    "featax.set_yticklabels(np.array(X.columns)[sorted_idx], fontsize=8)\n",
    "featax.set_xlabel('Relative Feature Importance')"
   ]
  },
  {
   "cell_type": "markdown",
   "metadata": {},
   "source": [
    "### Linear Discriminant Analysis"
   ]
  },
  {
   "cell_type": "code",
   "execution_count": 264,
   "metadata": {},
   "outputs": [
    {
     "name": "stderr",
     "output_type": "stream",
     "text": [
      "C:\\Users\\TMalishava\\AppData\\Local\\Continuum\\anaconda3\\envs\\testenv\\lib\\site-packages\\sklearn\\discriminant_analysis.py:388: UserWarning: Variables are collinear.\n",
      "  warnings.warn(\"Variables are collinear.\")\n"
     ]
    }
   ],
   "source": [
    "lda_undersampled = LinearDiscriminantAnalysis().fit(X_train_down, y_train_down)"
   ]
  },
  {
   "cell_type": "code",
   "execution_count": 265,
   "metadata": {},
   "outputs": [],
   "source": [
    "lda_undersampled_pred = lda_undersampled.predict(X_test)"
   ]
  },
  {
   "cell_type": "code",
   "execution_count": 266,
   "metadata": {},
   "outputs": [
    {
     "data": {
      "text/html": [
       "<div>\n",
       "<style scoped>\n",
       "    .dataframe tbody tr th:only-of-type {\n",
       "        vertical-align: middle;\n",
       "    }\n",
       "\n",
       "    .dataframe tbody tr th {\n",
       "        vertical-align: top;\n",
       "    }\n",
       "\n",
       "    .dataframe thead th {\n",
       "        text-align: right;\n",
       "    }\n",
       "</style>\n",
       "<table border=\"1\" class=\"dataframe\">\n",
       "  <thead>\n",
       "    <tr style=\"text-align: right;\">\n",
       "      <th>col_0</th>\n",
       "      <th>0</th>\n",
       "      <th>1</th>\n",
       "    </tr>\n",
       "    <tr>\n",
       "      <th>ბოლომდე არ გადაიხადა</th>\n",
       "      <th></th>\n",
       "      <th></th>\n",
       "    </tr>\n",
       "  </thead>\n",
       "  <tbody>\n",
       "    <tr>\n",
       "      <td>0</td>\n",
       "      <td>569</td>\n",
       "      <td>437</td>\n",
       "    </tr>\n",
       "    <tr>\n",
       "      <td>1</td>\n",
       "      <td>47</td>\n",
       "      <td>227</td>\n",
       "    </tr>\n",
       "  </tbody>\n",
       "</table>\n",
       "</div>"
      ],
      "text/plain": [
       "col_0                   0    1\n",
       "ბოლომდე არ გადაიხადა          \n",
       "0                     569  437\n",
       "1                      47  227"
      ]
     },
     "execution_count": 266,
     "metadata": {},
     "output_type": "execute_result"
    }
   ],
   "source": [
    "lda_conf_matrix = pd.crosstab(y_test, lda_undersampled_pred)\n",
    "lda_conf_matrix"
   ]
  },
  {
   "cell_type": "code",
   "execution_count": 267,
   "metadata": {},
   "outputs": [
    {
     "data": {
      "text/plain": [
       "0.621875"
      ]
     },
     "execution_count": 267,
     "metadata": {},
     "output_type": "execute_result"
    }
   ],
   "source": [
    "accuracy_score(y_test, lda_undersampled_pred)"
   ]
  },
  {
   "cell_type": "code",
   "execution_count": 268,
   "metadata": {},
   "outputs": [
    {
     "name": "stdout",
     "output_type": "stream",
     "text": [
      "Non-churn guessed correctly: 0.5656063618290258\n",
      "Churn guessed correctly: 0.8284671532846716\n"
     ]
    }
   ],
   "source": [
    "print('Non-churn guessed correctly:', lda_conf_matrix[0][0]/(lda_conf_matrix[0][0] + lda_conf_matrix[1][0]))\n",
    "\n",
    "print('Churn guessed correctly:', lda_conf_matrix[1][1]/(lda_conf_matrix[0][1] + lda_conf_matrix[1][1]))"
   ]
  }
 ],
 "metadata": {
  "kernelspec": {
   "display_name": "Python [conda env:testenv]",
   "language": "python",
   "name": "conda-env-testenv-py"
  },
  "language_info": {
   "codemirror_mode": {
    "name": "ipython",
    "version": 3
   },
   "file_extension": ".py",
   "mimetype": "text/x-python",
   "name": "python",
   "nbconvert_exporter": "python",
   "pygments_lexer": "ipython3",
   "version": "3.7.4"
  }
 },
 "nbformat": 4,
 "nbformat_minor": 2
}
